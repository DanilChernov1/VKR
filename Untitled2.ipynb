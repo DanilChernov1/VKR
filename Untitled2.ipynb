{
 "cells": [
  {
   "cell_type": "code",
   "execution_count": 1,
   "id": "ee50a3c8-964b-4f62-ac88-bcb55c5d80c8",
   "metadata": {
    "execution": {
     "iopub.execute_input": "2025-04-24T18:47:20.774034Z",
     "iopub.status.busy": "2025-04-24T18:47:20.773146Z",
     "iopub.status.idle": "2025-04-24T18:48:33.418342Z",
     "shell.execute_reply": "2025-04-24T18:48:33.417489Z",
     "shell.execute_reply.started": "2025-04-24T18:47:20.773992Z"
    },
    "tags": []
   },
   "outputs": [
    {
     "name": "stdout",
     "output_type": "stream",
     "text": [
      "CUDA is available, use --force_cpu to disable it.\n",
      "Using device:  cuda:0\n",
      "GPU Compute Capability below 8.0, using math or mem efficient attention if input tensor is on cuda\n",
      "Start from checkpoint: results/MelBandRoformer.ckpt\n",
      "Instruments: ['vocals', 'other']\n",
      "Model load time: 21.33 sec\n",
      "Total files found: 100. Using sample rate: 44100\n",
      "Processing track: input/wavs/song_000_mixture.wav\n"
     ]
    },
    {
     "name": "stderr",
     "output_type": "stream",
     "text": [
      "                                                                                      \r"
     ]
    },
    {
     "name": "stdout",
     "output_type": "stream",
     "text": [
      "Processing track: input/wavs/song_001_mixture.wav\n"
     ]
    },
    {
     "name": "stderr",
     "output_type": "stream",
     "text": [
      "                                                                                      \r"
     ]
    },
    {
     "name": "stdout",
     "output_type": "stream",
     "text": [
      "Processing track: input/wavs/song_002_mixture.wav\n"
     ]
    },
    {
     "name": "stderr",
     "output_type": "stream",
     "text": [
      "                                                                                      \r"
     ]
    },
    {
     "name": "stdout",
     "output_type": "stream",
     "text": [
      "Elapsed time: 26.76 seconds.\n"
     ]
    }
   ],
   "source": [
    "%run -i inference.py  --model_type mel_band_roformer --start_check_poin results/MelBandRoformer.ckpt --config_path configs/KimberleyJensen/config_vocals_mel_band_roformer_kj.yaml --input_folder input/wavs/  --store_dir separation_results3/"
   ]
  },
  {
   "cell_type": "code",
   "execution_count": 2,
   "id": "3e2085f0-b858-4f4f-a301-451f30ebf136",
   "metadata": {
    "execution": {
     "iopub.execute_input": "2025-04-24T01:46:00.358406Z",
     "iopub.status.busy": "2025-04-24T01:46:00.357718Z",
     "iopub.status.idle": "2025-04-24T01:47:01.581417Z",
     "shell.execute_reply": "2025-04-24T01:47:01.580583Z",
     "shell.execute_reply.started": "2025-04-24T01:46:00.358367Z"
    },
    "tags": []
   },
   "outputs": [
    {
     "name": "stdout",
     "output_type": "stream",
     "text": [
      "CUDA is available, use --force_cpu to disable it.\n",
      "Using device:  cuda:0\n",
      "Start from checkpoint: results/model_vocals_segm.ckpt\n",
      "Instruments: ['vocals', 'other']\n",
      "Model load time: 38.87 sec\n",
      "Total files found: 100. Using sample rate: 44100\n",
      "Processing track: input/wavs/song_000_mixture.wav\n"
     ]
    },
    {
     "name": "stderr",
     "output_type": "stream",
     "text": [
      "                                                                                      \r"
     ]
    },
    {
     "name": "stdout",
     "output_type": "stream",
     "text": [
      "Processing track: input/wavs/song_001_mixture.wav\n"
     ]
    },
    {
     "name": "stderr",
     "output_type": "stream",
     "text": [
      "                                                                                      \r"
     ]
    },
    {
     "name": "stdout",
     "output_type": "stream",
     "text": [
      "Processing track: input/wavs/song_002_mixture.wav\n"
     ]
    },
    {
     "name": "stderr",
     "output_type": "stream",
     "text": [
      "                                                                                      \r"
     ]
    },
    {
     "name": "stdout",
     "output_type": "stream",
     "text": [
      "Elapsed time: 22.31 seconds.\n"
     ]
    }
   ],
   "source": [
    "%run -i inference.py  --model_type segm_models --start_check_poin results/model_vocals_segm.ckpt --config_path configs/config_vocals_segm_models.yaml --input_folder input/wavs/  --store_dir separation_results3/"
   ]
  },
  {
   "cell_type": "code",
   "execution_count": 3,
   "id": "2366fb18-2b56-4dc6-a986-708b6e6fbfbf",
   "metadata": {
    "execution": {
     "iopub.execute_input": "2025-04-24T01:47:01.583081Z",
     "iopub.status.busy": "2025-04-24T01:47:01.582532Z",
     "iopub.status.idle": "2025-04-24T01:47:22.030306Z",
     "shell.execute_reply": "2025-04-24T01:47:22.029429Z",
     "shell.execute_reply.started": "2025-04-24T01:47:01.583043Z"
    },
    "tags": []
   },
   "outputs": [
    {
     "name": "stdout",
     "output_type": "stream",
     "text": [
      "CUDA is available, use --force_cpu to disable it.\n",
      "Using device:  cuda:0\n",
      "Start from checkpoint: results/model_vocals_htdemucs.ckpt\n",
      "Instruments: ['vocals', 'other']\n",
      "Model load time: 3.38 sec\n",
      "Total files found: 100. Using sample rate: 44100\n",
      "Processing track: input/wavs/song_000_mixture.wav\n"
     ]
    },
    {
     "name": "stderr",
     "output_type": "stream",
     "text": [
      "                                                                                      \r"
     ]
    },
    {
     "name": "stdout",
     "output_type": "stream",
     "text": [
      "Processing track: input/wavs/song_001_mixture.wav\n"
     ]
    },
    {
     "name": "stderr",
     "output_type": "stream",
     "text": [
      "                                                                                       \r"
     ]
    },
    {
     "name": "stdout",
     "output_type": "stream",
     "text": [
      "Processing track: input/wavs/song_002_mixture.wav\n"
     ]
    },
    {
     "name": "stderr",
     "output_type": "stream",
     "text": [
      "                                                                                       \r"
     ]
    },
    {
     "name": "stdout",
     "output_type": "stream",
     "text": [
      "Elapsed time: 17.02 seconds.\n"
     ]
    }
   ],
   "source": [
    "%run -i inference.py  --model_type htdemucs --start_check_poin results/model_vocals_htdemucs.ckpt --config_path configs/config_vocals_htdemucs.yaml --input_folder input/wavs/  --store_dir separation_results3/"
   ]
  },
  {
   "cell_type": "code",
   "execution_count": 4,
   "id": "cac5418b-55a9-4fa2-9679-1db1c438f9b3",
   "metadata": {
    "execution": {
     "iopub.execute_input": "2025-04-24T01:47:22.033345Z",
     "iopub.status.busy": "2025-04-24T01:47:22.032515Z",
     "iopub.status.idle": "2025-04-24T01:48:02.253253Z",
     "shell.execute_reply": "2025-04-24T01:48:02.252347Z",
     "shell.execute_reply.started": "2025-04-24T01:47:22.033303Z"
    },
    "tags": []
   },
   "outputs": [
    {
     "name": "stdout",
     "output_type": "stream",
     "text": [
      "CUDA is available, use --force_cpu to disable it.\n",
      "Using device:  cuda:0\n",
      "Start from checkpoint: results/last_mdx23c.ckpt\n",
      "Instruments: ['vocals', 'other']\n",
      "Model load time: 9.58 sec\n",
      "Total files found: 100. Using sample rate: 44100\n",
      "Processing track: input/wavs/song_000_mixture.wav\n"
     ]
    },
    {
     "name": "stderr",
     "output_type": "stream",
     "text": [
      "                                                                                      \r"
     ]
    },
    {
     "name": "stdout",
     "output_type": "stream",
     "text": [
      "Processing track: input/wavs/song_001_mixture.wav\n"
     ]
    },
    {
     "name": "stderr",
     "output_type": "stream",
     "text": [
      "                                                                                      \r"
     ]
    },
    {
     "name": "stdout",
     "output_type": "stream",
     "text": [
      "Processing track: input/wavs/song_002_mixture.wav\n"
     ]
    },
    {
     "name": "stderr",
     "output_type": "stream",
     "text": [
      "                                                                                      \r"
     ]
    },
    {
     "name": "stdout",
     "output_type": "stream",
     "text": [
      "Elapsed time: 30.49 seconds.\n"
     ]
    }
   ],
   "source": [
    "%run -i inference.py  --model_type mdx23c --start_check_poin results/last_mdx23c.ckpt --config_path configs/config_vocals_mdx23c.yaml --input_folder input/wavs/  --store_dir separation_results3/"
   ]
  },
  {
   "cell_type": "code",
   "execution_count": 5,
   "id": "37cc975f-94df-46fc-8787-26bbe0b94889",
   "metadata": {
    "execution": {
     "iopub.execute_input": "2025-04-24T01:48:02.255630Z",
     "iopub.status.busy": "2025-04-24T01:48:02.254351Z",
     "iopub.status.idle": "2025-04-24T01:48:25.758030Z",
     "shell.execute_reply": "2025-04-24T01:48:25.757221Z",
     "shell.execute_reply.started": "2025-04-24T01:48:02.255575Z"
    },
    "tags": []
   },
   "outputs": [
    {
     "name": "stdout",
     "output_type": "stream",
     "text": [
      "CUDA is available, use --force_cpu to disable it.\n",
      "Using device:  cuda:0\n",
      "Start from checkpoint: results/HTDemucs4_FT_Drums.th\n",
      "Instruments: ['drums', 'bass', 'other', 'vocals']\n",
      "Model load time: 1.75 sec\n",
      "Total files found: 100. Using sample rate: 44100\n",
      "Processing track: input/wavs/song_000_mixture.wav\n"
     ]
    },
    {
     "name": "stderr",
     "output_type": "stream",
     "text": [
      "                                                                                      \r"
     ]
    },
    {
     "name": "stdout",
     "output_type": "stream",
     "text": [
      "Processing track: input/wavs/song_001_mixture.wav\n"
     ]
    },
    {
     "name": "stderr",
     "output_type": "stream",
     "text": [
      "                                                                                      \r"
     ]
    },
    {
     "name": "stdout",
     "output_type": "stream",
     "text": [
      "Processing track: input/wavs/song_002_mixture.wav\n"
     ]
    },
    {
     "name": "stderr",
     "output_type": "stream",
     "text": [
      "                                                                                      \r"
     ]
    },
    {
     "name": "stdout",
     "output_type": "stream",
     "text": [
      "Elapsed time: 21.72 seconds.\n"
     ]
    }
   ],
   "source": [
    "%run -i inference.py  --model_type htdemucs --start_check_poin results/HTDemucs4_FT_Drums.th --config_path configs/config_musdb18_htdemucs.yaml --input_folder input/wavs/  --store_dir separation_results3/"
   ]
  },
  {
   "cell_type": "code",
   "execution_count": 6,
   "id": "ad46b049-5339-49b8-a881-e0994a75a102",
   "metadata": {
    "execution": {
     "iopub.execute_input": "2025-04-24T01:48:25.760654Z",
     "iopub.status.busy": "2025-04-24T01:48:25.759394Z",
     "iopub.status.idle": "2025-04-24T01:48:44.167132Z",
     "shell.execute_reply": "2025-04-24T01:48:44.166263Z",
     "shell.execute_reply.started": "2025-04-24T01:48:25.760597Z"
    },
    "tags": []
   },
   "outputs": [
    {
     "name": "stdout",
     "output_type": "stream",
     "text": [
      "CUDA is available, use --force_cpu to disable it.\n",
      "Using device:  cuda:0\n",
      "Start from checkpoint: results/HTDemucs4_FT_Bass.th\n",
      "Instruments: ['drums', 'bass', 'other', 'vocals']\n",
      "Model load time: 1.86 sec\n",
      "Total files found: 100. Using sample rate: 44100\n",
      "Processing track: input/wavs/song_000_mixture.wav\n"
     ]
    },
    {
     "name": "stderr",
     "output_type": "stream",
     "text": [
      "                                                                                      \r"
     ]
    },
    {
     "name": "stdout",
     "output_type": "stream",
     "text": [
      "Processing track: input/wavs/song_001_mixture.wav\n"
     ]
    },
    {
     "name": "stderr",
     "output_type": "stream",
     "text": [
      "                                                                                      \r"
     ]
    },
    {
     "name": "stdout",
     "output_type": "stream",
     "text": [
      "Processing track: input/wavs/song_002_mixture.wav\n"
     ]
    },
    {
     "name": "stderr",
     "output_type": "stream",
     "text": [
      "                                                                                      \r"
     ]
    },
    {
     "name": "stdout",
     "output_type": "stream",
     "text": [
      "Elapsed time: 16.53 seconds.\n"
     ]
    }
   ],
   "source": [
    "%run -i inference.py  --model_type htdemucs --start_check_poin results/HTDemucs4_FT_Bass.th --config_path configs/config_musdb18_htdemucs.yaml --input_folder input/wavs/  --store_dir separation_results3/"
   ]
  },
  {
   "cell_type": "code",
   "execution_count": 7,
   "id": "b22d2e4c-7d88-4a6b-8f7a-8021e9bb45ed",
   "metadata": {
    "execution": {
     "iopub.execute_input": "2025-04-24T01:48:44.168976Z",
     "iopub.status.busy": "2025-04-24T01:48:44.168215Z",
     "iopub.status.idle": "2025-04-24T01:49:02.859712Z",
     "shell.execute_reply": "2025-04-24T01:49:02.858826Z",
     "shell.execute_reply.started": "2025-04-24T01:48:44.168941Z"
    },
    "tags": []
   },
   "outputs": [
    {
     "name": "stdout",
     "output_type": "stream",
     "text": [
      "CUDA is available, use --force_cpu to disable it.\n",
      "Using device:  cuda:0\n",
      "Start from checkpoint: results/HTDemucs4_FT_Other.th\n",
      "Instruments: ['drums', 'bass', 'other', 'vocals']\n",
      "Model load time: 1.98 sec\n",
      "Total files found: 100. Using sample rate: 44100\n",
      "Processing track: input/wavs/song_000_mixture.wav\n"
     ]
    },
    {
     "name": "stderr",
     "output_type": "stream",
     "text": [
      "                                                                                      \r"
     ]
    },
    {
     "name": "stdout",
     "output_type": "stream",
     "text": [
      "Processing track: input/wavs/song_001_mixture.wav\n"
     ]
    },
    {
     "name": "stderr",
     "output_type": "stream",
     "text": [
      "                                                                                      \r"
     ]
    },
    {
     "name": "stdout",
     "output_type": "stream",
     "text": [
      "Processing track: input/wavs/song_002_mixture.wav\n"
     ]
    },
    {
     "name": "stderr",
     "output_type": "stream",
     "text": [
      "                                                                                      \r"
     ]
    },
    {
     "name": "stdout",
     "output_type": "stream",
     "text": [
      "Elapsed time: 16.67 seconds.\n"
     ]
    }
   ],
   "source": [
    "%run -i inference.py  --model_type htdemucs --start_check_poin results/HTDemucs4_FT_Other.th --config_path configs/config_musdb18_htdemucs.yaml --input_folder input/wavs/  --store_dir separation_results3/"
   ]
  },
  {
   "cell_type": "code",
   "execution_count": 8,
   "id": "b96f4d62-3205-470d-89d0-03fc0ddcac95",
   "metadata": {
    "execution": {
     "iopub.execute_input": "2025-04-24T01:49:02.862440Z",
     "iopub.status.busy": "2025-04-24T01:49:02.860776Z",
     "iopub.status.idle": "2025-04-24T01:49:21.371820Z",
     "shell.execute_reply": "2025-04-24T01:49:21.370912Z",
     "shell.execute_reply.started": "2025-04-24T01:49:02.862399Z"
    },
    "tags": []
   },
   "outputs": [
    {
     "name": "stdout",
     "output_type": "stream",
     "text": [
      "CUDA is available, use --force_cpu to disable it.\n",
      "Using device:  cuda:0\n",
      "Start from checkpoint: results/HTDemucs4_FT_Vocals.th\n",
      "Instruments: ['drums', 'bass', 'other', 'vocals']\n",
      "Model load time: 1.82 sec\n",
      "Total files found: 100. Using sample rate: 44100\n",
      "Processing track: input/wavs/song_000_mixture.wav\n"
     ]
    },
    {
     "name": "stderr",
     "output_type": "stream",
     "text": [
      "                                                                                      \r"
     ]
    },
    {
     "name": "stdout",
     "output_type": "stream",
     "text": [
      "Processing track: input/wavs/song_001_mixture.wav\n"
     ]
    },
    {
     "name": "stderr",
     "output_type": "stream",
     "text": [
      "                                                                                      \r"
     ]
    },
    {
     "name": "stdout",
     "output_type": "stream",
     "text": [
      "Processing track: input/wavs/song_002_mixture.wav\n"
     ]
    },
    {
     "name": "stderr",
     "output_type": "stream",
     "text": [
      "                                                                                      \r"
     ]
    },
    {
     "name": "stdout",
     "output_type": "stream",
     "text": [
      "Elapsed time: 16.64 seconds.\n"
     ]
    }
   ],
   "source": [
    "%run -i inference.py  --model_type htdemucs --start_check_poin results/HTDemucs4_FT_Vocals.th --config_path configs/config_musdb18_htdemucs.yaml --input_folder input/wavs/  --store_dir separation_results3/"
   ]
  },
  {
   "cell_type": "code",
   "execution_count": 9,
   "id": "3a65ec3a-4ea1-44f3-abd4-8729a43079c5",
   "metadata": {
    "execution": {
     "iopub.execute_input": "2025-04-24T01:49:21.373483Z",
     "iopub.status.busy": "2025-04-24T01:49:21.372930Z",
     "iopub.status.idle": "2025-04-24T01:49:39.871652Z",
     "shell.execute_reply": "2025-04-24T01:49:39.870833Z",
     "shell.execute_reply.started": "2025-04-24T01:49:21.373444Z"
    },
    "tags": []
   },
   "outputs": [
    {
     "name": "stdout",
     "output_type": "stream",
     "text": [
      "CUDA is available, use --force_cpu to disable it.\n",
      "Using device:  cuda:0\n",
      "Start from checkpoint: results/HTDemucs4.th\n",
      "Instruments: ['drums', 'bass', 'other', 'vocals']\n",
      "Model load time: 1.83 sec\n",
      "Total files found: 100. Using sample rate: 44100\n",
      "Processing track: input/wavs/song_000_mixture.wav\n"
     ]
    },
    {
     "name": "stderr",
     "output_type": "stream",
     "text": [
      "                                                                                      \r"
     ]
    },
    {
     "name": "stdout",
     "output_type": "stream",
     "text": [
      "Processing track: input/wavs/song_001_mixture.wav\n"
     ]
    },
    {
     "name": "stderr",
     "output_type": "stream",
     "text": [
      "                                                                                      \r"
     ]
    },
    {
     "name": "stdout",
     "output_type": "stream",
     "text": [
      "Processing track: input/wavs/song_002_mixture.wav\n"
     ]
    },
    {
     "name": "stderr",
     "output_type": "stream",
     "text": [
      "                                                                                      \r"
     ]
    },
    {
     "name": "stdout",
     "output_type": "stream",
     "text": [
      "Elapsed time: 16.64 seconds.\n"
     ]
    }
   ],
   "source": [
    "%run -i inference.py  --model_type htdemucs --start_check_poin results/HTDemucs4.th --config_path configs/config_musdb18_htdemucs.yaml --input_folder input/wavs/  --store_dir separation_results3/"
   ]
  },
  {
   "cell_type": "code",
   "execution_count": null,
   "id": "b9dbacb1-4dea-43f4-993c-9001082e39b8",
   "metadata": {},
   "outputs": [],
   "source": []
  }
 ],
 "metadata": {
  "kernelspec": {
   "display_name": "DataSphere Kernel",
   "language": "python",
   "name": "python3"
  },
  "language_info": {
   "codemirror_mode": {
    "name": "ipython",
    "version": 3
   },
   "file_extension": ".py",
   "mimetype": "text/x-python",
   "name": "python",
   "nbconvert_exporter": "python",
   "pygments_lexer": "ipython3",
   "version": "3.10.12"
  }
 },
 "nbformat": 4,
 "nbformat_minor": 5
}
