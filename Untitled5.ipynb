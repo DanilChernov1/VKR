{
 "cells": [
  {
   "cell_type": "code",
   "execution_count": 6,
   "id": "783d283d-1878-4355-9981-b7e5394c2fca",
   "metadata": {
    "execution": {
     "iopub.execute_input": "2025-05-05T11:38:58.057680Z",
     "iopub.status.busy": "2025-05-05T11:38:58.056614Z",
     "iopub.status.idle": "2025-05-05T11:40:32.074107Z",
     "shell.execute_reply": "2025-05-05T11:40:32.072777Z",
     "shell.execute_reply.started": "2025-05-05T11:38:58.057635Z"
    },
    "tags": []
   },
   "outputs": [
    {
     "name": "stdout",
     "output_type": "stream",
     "text": [
      "CUDA is available, use --force_cpu to disable it.\n",
      "Using device:  cuda:0\n",
      "Instruments: ['vocals', 'other']\n",
      "<class 'tensorrt_bindings.tensorrt.ICudaEngine'>\n",
      "Model load time: 0.98 sec\n",
      "Total files found: 100. Using sample rate: 44100\n",
      "Processing track: input/wavs/song_000_mixture.wav\n"
     ]
    },
    {
     "name": "stderr",
     "output_type": "stream",
     "text": [
      "                                                                                      \r"
     ]
    },
    {
     "name": "stdout",
     "output_type": "stream",
     "text": [
      "Processing track: input/wavs/song_001_mixture.wav\n"
     ]
    },
    {
     "name": "stderr",
     "output_type": "stream",
     "text": [
      "                                                                                      \r"
     ]
    },
    {
     "name": "stdout",
     "output_type": "stream",
     "text": [
      "Processing track: input/wavs/song_002_mixture.wav\n"
     ]
    },
    {
     "name": "stderr",
     "output_type": "stream",
     "text": [
      "                                                                                      \r"
     ]
    },
    {
     "name": "stdout",
     "output_type": "stream",
     "text": [
      "Processing track: input/wavs/song_003_mixture.wav\n"
     ]
    },
    {
     "name": "stderr",
     "output_type": "stream",
     "text": [
      "                                                                                      \r"
     ]
    },
    {
     "name": "stdout",
     "output_type": "stream",
     "text": [
      "Processing track: input/wavs/song_004_mixture.wav\n"
     ]
    },
    {
     "name": "stderr",
     "output_type": "stream",
     "text": [
      "                                                                                      \r"
     ]
    },
    {
     "name": "stdout",
     "output_type": "stream",
     "text": [
      "Processing track: input/wavs/song_005_mixture.wav\n"
     ]
    },
    {
     "name": "stderr",
     "output_type": "stream",
     "text": [
      "                                                                                      \r"
     ]
    },
    {
     "name": "stdout",
     "output_type": "stream",
     "text": [
      "Elapsed time: 92.98 seconds.\n"
     ]
    }
   ],
   "source": [
    "%run -i inference.py --model_type mdx23c --use_tensorrt --tensorrt_model_path mdx23c.engine  --config_path configs/config_vocals_mdx23c.yaml  --input_folder input/wavs/  --store_dir separation_results2/"
   ]
  },
  {
   "cell_type": "code",
   "execution_count": 2,
   "id": "fa822ce0-8c37-42b4-8f1e-69b653bee93c",
   "metadata": {
    "execution": {
     "iopub.execute_input": "2025-05-05T11:44:11.951609Z",
     "iopub.status.busy": "2025-05-05T11:44:11.950445Z",
     "iopub.status.idle": "2025-05-05T11:44:31.933895Z",
     "shell.execute_reply": "2025-05-05T11:44:31.933214Z",
     "shell.execute_reply.started": "2025-05-05T11:44:11.951575Z"
    },
    "tags": []
   },
   "outputs": [
    {
     "name": "stdout",
     "output_type": "stream",
     "text": [
      "CUDA is available, use --force_cpu to disable it.\n",
      "Using device:  cuda:0\n",
      "Instruments: ['vocals', 'other']\n",
      "<class 'tensorrt_bindings.tensorrt.ICudaEngine'>\n",
      "Model load time: 1.00 sec\n",
      "Total files found: 100. Using sample rate: 44100\n",
      "Processing track: input/wavs/song_000_mixture.wav\n"
     ]
    },
    {
     "name": "stderr",
     "output_type": "stream",
     "text": [
      "                                                                                      \r"
     ]
    },
    {
     "name": "stdout",
     "output_type": "stream",
     "text": [
      "Processing track: input/wavs/song_001_mixture.wav\n"
     ]
    },
    {
     "name": "stderr",
     "output_type": "stream",
     "text": [
      "Processing audio chunks:  26%|██▌       | 783360/3037680 [00:03<00:10, 208719.74it/s]"
     ]
    },
    {
     "ename": "KeyboardInterrupt",
     "evalue": "",
     "output_type": "error",
     "traceback": [
      "\u001b[0;31m---------------------------------------------------------------------------\u001b[0m",
      "\u001b[0;31mKeyboardInterrupt\u001b[0m                         Traceback (most recent call last)",
      "\u001b[0;32m~/work/resources/VKR/inference.py\u001b[0m in \u001b[0;36m<module>\u001b[0;34m\u001b[0m\n\u001b[1;32m    216\u001b[0m \u001b[0;34m\u001b[0m\u001b[0m\n\u001b[1;32m    217\u001b[0m \u001b[0;32mif\u001b[0m \u001b[0m__name__\u001b[0m \u001b[0;34m==\u001b[0m \u001b[0;34m\"__main__\"\u001b[0m\u001b[0;34m:\u001b[0m\u001b[0;34m\u001b[0m\u001b[0;34m\u001b[0m\u001b[0m\n\u001b[0;32m--> 218\u001b[0;31m     \u001b[0mproc_folder\u001b[0m\u001b[0;34m(\u001b[0m\u001b[0;32mNone\u001b[0m\u001b[0;34m)\u001b[0m\u001b[0;34m\u001b[0m\u001b[0;34m\u001b[0m\u001b[0m\n\u001b[0m",
      "\u001b[0;32m~/work/resources/VKR/inference.py\u001b[0m in \u001b[0;36mproc_folder\u001b[0;34m(dict_args)\u001b[0m\n\u001b[1;32m    210\u001b[0m         \u001b[0mrun_folder\u001b[0m\u001b[0;34m(\u001b[0m\u001b[0msession\u001b[0m\u001b[0;34m,\u001b[0m \u001b[0margs\u001b[0m\u001b[0;34m,\u001b[0m \u001b[0mconfig\u001b[0m\u001b[0;34m,\u001b[0m \u001b[0mdevice\u001b[0m\u001b[0;34m,\u001b[0m \u001b[0mverbose\u001b[0m\u001b[0;34m=\u001b[0m\u001b[0;32mTrue\u001b[0m\u001b[0;34m)\u001b[0m\u001b[0;34m\u001b[0m\u001b[0;34m\u001b[0m\u001b[0m\n\u001b[1;32m    211\u001b[0m     \u001b[0;32melif\u001b[0m \u001b[0margs\u001b[0m\u001b[0;34m.\u001b[0m\u001b[0muse_tensorrt\u001b[0m\u001b[0;34m:\u001b[0m\u001b[0;34m\u001b[0m\u001b[0;34m\u001b[0m\u001b[0m\n\u001b[0;32m--> 212\u001b[0;31m         \u001b[0mrun_folder\u001b[0m\u001b[0;34m(\u001b[0m\u001b[0mengine\u001b[0m\u001b[0;34m,\u001b[0m \u001b[0margs\u001b[0m\u001b[0;34m,\u001b[0m \u001b[0mconfig\u001b[0m\u001b[0;34m,\u001b[0m \u001b[0mdevice\u001b[0m\u001b[0;34m,\u001b[0m \u001b[0mverbose\u001b[0m\u001b[0;34m=\u001b[0m\u001b[0;32mTrue\u001b[0m\u001b[0;34m)\u001b[0m\u001b[0;34m\u001b[0m\u001b[0;34m\u001b[0m\u001b[0m\n\u001b[0m\u001b[1;32m    213\u001b[0m     \u001b[0;32melse\u001b[0m\u001b[0;34m:\u001b[0m\u001b[0;34m\u001b[0m\u001b[0;34m\u001b[0m\u001b[0m\n\u001b[1;32m    214\u001b[0m         \u001b[0mrun_folder\u001b[0m\u001b[0;34m(\u001b[0m\u001b[0mmodel\u001b[0m\u001b[0;34m,\u001b[0m \u001b[0margs\u001b[0m\u001b[0;34m,\u001b[0m \u001b[0mconfig\u001b[0m\u001b[0;34m,\u001b[0m \u001b[0mdevice\u001b[0m\u001b[0;34m,\u001b[0m \u001b[0mverbose\u001b[0m\u001b[0;34m=\u001b[0m\u001b[0;32mTrue\u001b[0m\u001b[0;34m)\u001b[0m\u001b[0;34m\u001b[0m\u001b[0;34m\u001b[0m\u001b[0m\n",
      "\u001b[0;32m~/work/resources/VKR/inference.py\u001b[0m in \u001b[0;36mrun_folder\u001b[0;34m(model, args, config, device, verbose)\u001b[0m\n\u001b[1;32m     86\u001b[0m                 \u001b[0mmix\u001b[0m\u001b[0;34m,\u001b[0m \u001b[0mnorm_params\u001b[0m \u001b[0;34m=\u001b[0m \u001b[0mnormalize_audio\u001b[0m\u001b[0;34m(\u001b[0m\u001b[0mmix\u001b[0m\u001b[0;34m)\u001b[0m\u001b[0;34m\u001b[0m\u001b[0;34m\u001b[0m\u001b[0m\n\u001b[1;32m     87\u001b[0m \u001b[0;34m\u001b[0m\u001b[0m\n\u001b[0;32m---> 88\u001b[0;31m         \u001b[0mwaveforms_orig\u001b[0m \u001b[0;34m=\u001b[0m \u001b[0mdemix\u001b[0m\u001b[0;34m(\u001b[0m\u001b[0mconfig\u001b[0m\u001b[0;34m,\u001b[0m \u001b[0mmodel\u001b[0m\u001b[0;34m,\u001b[0m \u001b[0mmix\u001b[0m\u001b[0;34m,\u001b[0m \u001b[0mdevice\u001b[0m\u001b[0;34m,\u001b[0m \u001b[0mmodel_type\u001b[0m\u001b[0;34m=\u001b[0m\u001b[0margs\u001b[0m\u001b[0;34m.\u001b[0m\u001b[0mmodel_type\u001b[0m\u001b[0;34m,\u001b[0m \u001b[0mpbar\u001b[0m\u001b[0;34m=\u001b[0m\u001b[0mdetailed_pbar\u001b[0m\u001b[0;34m,\u001b[0m \u001b[0muse_onnx\u001b[0m\u001b[0;34m=\u001b[0m\u001b[0margs\u001b[0m\u001b[0;34m.\u001b[0m\u001b[0muse_onnx\u001b[0m\u001b[0;34m,\u001b[0m \u001b[0muse_tensorrt\u001b[0m\u001b[0;34m=\u001b[0m\u001b[0margs\u001b[0m\u001b[0;34m.\u001b[0m\u001b[0muse_tensorrt\u001b[0m\u001b[0;34m)\u001b[0m\u001b[0;34m\u001b[0m\u001b[0;34m\u001b[0m\u001b[0m\n\u001b[0m\u001b[1;32m     89\u001b[0m \u001b[0;34m\u001b[0m\u001b[0m\n\u001b[1;32m     90\u001b[0m         \u001b[0;32mif\u001b[0m \u001b[0margs\u001b[0m\u001b[0;34m.\u001b[0m\u001b[0muse_tta\u001b[0m \u001b[0;32mand\u001b[0m \u001b[0;32mnot\u001b[0m \u001b[0margs\u001b[0m\u001b[0;34m.\u001b[0m\u001b[0muse_onnx\u001b[0m\u001b[0;34m:\u001b[0m\u001b[0;34m\u001b[0m\u001b[0;34m\u001b[0m\u001b[0m\n",
      "\u001b[0;32m~/work/resources/VKR/utils.py\u001b[0m in \u001b[0;36mdemix\u001b[0;34m(config, model, mix, device, model_type, pbar, use_onnx, use_tensorrt)\u001b[0m\n\u001b[1;32m    434\u001b[0m                     \u001b[0;32melif\u001b[0m \u001b[0muse_tensorrt\u001b[0m\u001b[0;34m:\u001b[0m\u001b[0;34m\u001b[0m\u001b[0;34m\u001b[0m\u001b[0m\n\u001b[1;32m    435\u001b[0m                         \u001b[0mx\u001b[0m \u001b[0;34m=\u001b[0m \u001b[0mpreprocessor\u001b[0m\u001b[0;34m.\u001b[0m\u001b[0mstft\u001b[0m\u001b[0;34m(\u001b[0m\u001b[0marr\u001b[0m\u001b[0;34m)\u001b[0m\u001b[0;34m.\u001b[0m\u001b[0mcpu\u001b[0m\u001b[0;34m(\u001b[0m\u001b[0;34m)\u001b[0m\u001b[0;34m.\u001b[0m\u001b[0mnumpy\u001b[0m\u001b[0;34m(\u001b[0m\u001b[0;34m)\u001b[0m\u001b[0;34m\u001b[0m\u001b[0;34m\u001b[0m\u001b[0m\n\u001b[0;32m--> 436\u001b[0;31m                         \u001b[0mcontext\u001b[0m \u001b[0;34m=\u001b[0m \u001b[0mmodel\u001b[0m\u001b[0;34m.\u001b[0m\u001b[0mcreate_execution_context\u001b[0m\u001b[0;34m(\u001b[0m\u001b[0;34m)\u001b[0m\u001b[0;34m\u001b[0m\u001b[0;34m\u001b[0m\u001b[0m\n\u001b[0m\u001b[1;32m    437\u001b[0m                         \u001b[0minput_shape\u001b[0m \u001b[0;34m=\u001b[0m \u001b[0mx\u001b[0m\u001b[0;34m.\u001b[0m\u001b[0mshape\u001b[0m\u001b[0;34m\u001b[0m\u001b[0;34m\u001b[0m\u001b[0m\n\u001b[1;32m    438\u001b[0m                         \u001b[0moutput_tensor_name\u001b[0m \u001b[0;34m=\u001b[0m \u001b[0mmodel\u001b[0m\u001b[0;34m.\u001b[0m\u001b[0mget_tensor_name\u001b[0m\u001b[0;34m(\u001b[0m\u001b[0;36m1\u001b[0m\u001b[0;34m)\u001b[0m\u001b[0;34m\u001b[0m\u001b[0;34m\u001b[0m\u001b[0m\n",
      "\u001b[0;31mKeyboardInterrupt\u001b[0m: "
     ]
    }
   ],
   "source": [
    "%run -i inference.py --model_type mdx23c --use_tensorrt --tensorrt_model_path mdx23c.engine  --config_path configs/config_vocals_mdx23c.yaml  --input_folder input/wavs/  --store_dir separation_results2/"
   ]
  },
  {
   "cell_type": "code",
   "execution_count": 2,
   "id": "d30ce1c8-3bf9-40a1-b606-14d3ea3c4395",
   "metadata": {
    "execution": {
     "iopub.execute_input": "2025-05-05T11:17:57.619556Z",
     "iopub.status.busy": "2025-05-05T11:17:57.618403Z",
     "iopub.status.idle": "2025-05-05T11:18:35.108269Z",
     "shell.execute_reply": "2025-05-05T11:18:35.107396Z",
     "shell.execute_reply.started": "2025-05-05T11:17:57.619513Z"
    },
    "tags": []
   },
   "outputs": [
    {
     "name": "stdout",
     "output_type": "stream",
     "text": [
      "Defaulting to user installation because normal site-packages is not writeable\n",
      "\u001b[33mWARNING: Ignoring invalid distribution -ensorrt-cu11-libs (/home/jupyter/.local/lib/python3.10/site-packages)\u001b[0m\u001b[33m\n",
      "\u001b[0m\u001b[33mWARNING: Ignoring invalid distribution -orch (/home/jupyter/.local/lib/python3.10/site-packages)\u001b[0m\u001b[33m\n",
      "\u001b[0m\u001b[33mWARNING: Ignoring invalid distribution -umpy (/home/jupyter/.local/lib/python3.10/site-packages)\u001b[0m\u001b[33m\n",
      "\u001b[0m\u001b[33mWARNING: Ignoring invalid distribution -vidia-cufft-cu12 (/home/jupyter/.local/lib/python3.10/site-packages)\u001b[0m\u001b[33m\n",
      "\u001b[0m\u001b[33mWARNING: Ignoring invalid distribution -vidia-cusparse-cu12 (/home/jupyter/.local/lib/python3.10/site-packages)\u001b[0m\u001b[33m\n",
      "\u001b[0m\u001b[33mWARNING: Ignoring invalid distribution -ympy (/home/jupyter/.local/lib/python3.10/site-packages)\u001b[0m\u001b[33m\n",
      "\u001b[0mLooking in indexes: https://pypi.org/simple, https://pypi.ngc.nvidia.com\n",
      "Requirement already satisfied: torch>=2.0.1 in /home/jupyter/.local/lib/python3.10/site-packages (from -r requirements.txt (line 1)) (2.7.0)\n",
      "Requirement already satisfied: tensorrt-cu11==10.7.0 in /home/jupyter/.local/lib/python3.10/site-packages (from -r requirements.txt (line 2)) (10.7.0)\n",
      "Requirement already satisfied: tensorrt-lean-cu11==10.7.0 in /home/jupyter/.local/lib/python3.10/site-packages (from -r requirements.txt (line 3)) (10.7.0)\n",
      "Requirement already satisfied: tensorrt-dispatch-cu11==10.7.0 in /home/jupyter/.local/lib/python3.10/site-packages (from -r requirements.txt (line 4)) (10.7.0)\n",
      "Requirement already satisfied: tensorrt_lean==10.7.0 in /home/jupyter/.local/lib/python3.10/site-packages (from -r requirements.txt (line 5)) (10.7.0)\n",
      "Requirement already satisfied: tensorrt_dispatch==10.7.0 in /home/jupyter/.local/lib/python3.10/site-packages (from -r requirements.txt (line 6)) (10.7.0)\n",
      "Requirement already satisfied: torchaudio in /home/jupyter/.local/lib/python3.10/site-packages (from -r requirements.txt (line 7)) (2.7.0)\n",
      "Requirement already satisfied: torchvision in /home/jupyter/.local/lib/python3.10/site-packages (from -r requirements.txt (line 8)) (0.22.0)\n",
      "Requirement already satisfied: numpy in /home/jupyter/.local/lib/python3.10/site-packages (from -r requirements.txt (line 9)) (1.23.5)\n",
      "Collecting numpy (from -r requirements.txt (line 9))\n",
      "  Downloading numpy-2.2.5-cp310-cp310-manylinux_2_17_x86_64.manylinux2014_x86_64.whl.metadata (62 kB)\n",
      "Requirement already satisfied: onnxruntime-gpu in /home/jupyter/.local/lib/python3.10/site-packages (from -r requirements.txt (line 10)) (1.21.1)\n",
      "Requirement already satisfied: pandas in /home/jupyter/.local/lib/python3.10/site-packages (from -r requirements.txt (line 11)) (2.2.3)\n",
      "Requirement already satisfied: scipy in /home/jupyter/.local/lib/python3.10/site-packages (from -r requirements.txt (line 12)) (1.15.2)\n",
      "Requirement already satisfied: soundfile in /home/jupyter/.local/lib/python3.10/site-packages (from -r requirements.txt (line 13)) (0.13.1)\n",
      "Requirement already satisfied: ml_collections in /home/jupyter/.local/lib/python3.10/site-packages (from -r requirements.txt (line 14)) (1.1.0)\n",
      "Requirement already satisfied: tqdm in /home/jupyter/.local/lib/python3.10/site-packages (from -r requirements.txt (line 15)) (4.67.1)\n",
      "Requirement already satisfied: segmentation_models_pytorch in /home/jupyter/.local/lib/python3.10/site-packages (from -r requirements.txt (line 16)) (0.5.0)\n",
      "Requirement already satisfied: timm==0.9.2 in /home/jupyter/.local/lib/python3.10/site-packages (from -r requirements.txt (line 17)) (0.9.2)\n",
      "Requirement already satisfied: audiomentations==0.24.0 in /home/jupyter/.local/lib/python3.10/site-packages (from -r requirements.txt (line 18)) (0.24.0)\n",
      "Requirement already satisfied: pedalboard~=0.8.1 in /home/jupyter/.local/lib/python3.10/site-packages (from -r requirements.txt (line 19)) (0.8.9)\n",
      "Requirement already satisfied: omegaconf==2.2.3 in /home/jupyter/.local/lib/python3.10/site-packages (from -r requirements.txt (line 20)) (2.2.3)\n",
      "Requirement already satisfied: beartype==0.14.1 in /home/jupyter/.local/lib/python3.10/site-packages (from -r requirements.txt (line 21)) (0.14.1)\n",
      "Requirement already satisfied: rotary_embedding_torch==0.3.5 in /home/jupyter/.local/lib/python3.10/site-packages (from -r requirements.txt (line 22)) (0.3.5)\n",
      "Requirement already satisfied: einops in /home/jupyter/.local/lib/python3.10/site-packages (from -r requirements.txt (line 23)) (0.8.1)\n",
      "Requirement already satisfied: librosa in /home/jupyter/.local/lib/python3.10/site-packages (from -r requirements.txt (line 24)) (0.9.2)\n",
      "Collecting librosa (from -r requirements.txt (line 24))\n",
      "  Downloading librosa-0.11.0-py3-none-any.whl.metadata (8.7 kB)\n",
      "Requirement already satisfied: demucs in /home/jupyter/.local/lib/python3.10/site-packages (from -r requirements.txt (line 25)) (4.0.1)\n",
      "Requirement already satisfied: tensorrt-lean-cu12==10.7.0 in /home/jupyter/.local/lib/python3.10/site-packages (from tensorrt_lean==10.7.0->-r requirements.txt (line 5)) (10.7.0)\n",
      "Requirement already satisfied: tensorrt-dispatch-cu12==10.7.0 in /home/jupyter/.local/lib/python3.10/site-packages (from tensorrt_dispatch==10.7.0->-r requirements.txt (line 6)) (10.7.0)\n",
      "Requirement already satisfied: pyyaml in /usr/local/lib/python3.10/dist-packages (from timm==0.9.2->-r requirements.txt (line 17)) (6.0.1)\n",
      "Requirement already satisfied: huggingface-hub in /home/jupyter/.local/lib/python3.10/site-packages (from timm==0.9.2->-r requirements.txt (line 17)) (0.28.1)\n",
      "Requirement already satisfied: safetensors in /home/jupyter/.local/lib/python3.10/site-packages (from timm==0.9.2->-r requirements.txt (line 17)) (0.5.2)\n",
      "Requirement already satisfied: antlr4-python3-runtime==4.9.* in /usr/local/lib/python3.10/dist-packages (from omegaconf==2.2.3->-r requirements.txt (line 20)) (4.9.3)\n",
      "Requirement already satisfied: filelock in /usr/local/lib/python3.10/dist-packages (from torch>=2.0.1->-r requirements.txt (line 1)) (3.12.2)\n",
      "Requirement already satisfied: typing-extensions>=4.10.0 in /home/jupyter/.local/lib/python3.10/site-packages (from torch>=2.0.1->-r requirements.txt (line 1)) (4.12.2)\n",
      "Requirement already satisfied: sympy>=1.13.3 in /home/jupyter/.local/lib/python3.10/site-packages (from torch>=2.0.1->-r requirements.txt (line 1)) (1.14.0)\n",
      "Requirement already satisfied: networkx in /usr/local/lib/python3.10/dist-packages (from torch>=2.0.1->-r requirements.txt (line 1)) (3.1)\n",
      "Requirement already satisfied: jinja2 in /usr/local/lib/python3.10/dist-packages (from torch>=2.0.1->-r requirements.txt (line 1)) (3.1.2)\n",
      "Requirement already satisfied: fsspec in /usr/local/lib/python3.10/dist-packages (from torch>=2.0.1->-r requirements.txt (line 1)) (2023.6.0)\n",
      "Requirement already satisfied: nvidia-cuda-nvrtc-cu12==12.6.77 in /home/jupyter/.local/lib/python3.10/site-packages (from torch>=2.0.1->-r requirements.txt (line 1)) (12.6.77)\n",
      "Requirement already satisfied: nvidia-cuda-runtime-cu12==12.6.77 in /home/jupyter/.local/lib/python3.10/site-packages (from torch>=2.0.1->-r requirements.txt (line 1)) (12.6.77)\n",
      "Requirement already satisfied: nvidia-cuda-cupti-cu12==12.6.80 in /home/jupyter/.local/lib/python3.10/site-packages (from torch>=2.0.1->-r requirements.txt (line 1)) (12.6.80)\n",
      "Requirement already satisfied: nvidia-cudnn-cu12==9.5.1.17 in /home/jupyter/.local/lib/python3.10/site-packages (from torch>=2.0.1->-r requirements.txt (line 1)) (9.5.1.17)\n",
      "Requirement already satisfied: nvidia-cublas-cu12==12.6.4.1 in /home/jupyter/.local/lib/python3.10/site-packages (from torch>=2.0.1->-r requirements.txt (line 1)) (12.6.4.1)\n",
      "Requirement already satisfied: nvidia-cufft-cu12==11.3.0.4 in /home/jupyter/.local/lib/python3.10/site-packages (from torch>=2.0.1->-r requirements.txt (line 1)) (11.3.0.4)\n",
      "Requirement already satisfied: nvidia-curand-cu12==10.3.7.77 in /home/jupyter/.local/lib/python3.10/site-packages (from torch>=2.0.1->-r requirements.txt (line 1)) (10.3.7.77)\n",
      "Requirement already satisfied: nvidia-cusolver-cu12==11.7.1.2 in /home/jupyter/.local/lib/python3.10/site-packages (from torch>=2.0.1->-r requirements.txt (line 1)) (11.7.1.2)\n",
      "Requirement already satisfied: nvidia-cusparse-cu12==12.5.4.2 in /home/jupyter/.local/lib/python3.10/site-packages (from torch>=2.0.1->-r requirements.txt (line 1)) (12.5.4.2)\n",
      "Requirement already satisfied: nvidia-cusparselt-cu12==0.6.3 in /home/jupyter/.local/lib/python3.10/site-packages (from torch>=2.0.1->-r requirements.txt (line 1)) (0.6.3)\n",
      "Requirement already satisfied: nvidia-nccl-cu12==2.26.2 in /home/jupyter/.local/lib/python3.10/site-packages (from torch>=2.0.1->-r requirements.txt (line 1)) (2.26.2)\n",
      "Requirement already satisfied: nvidia-nvtx-cu12==12.6.77 in /home/jupyter/.local/lib/python3.10/site-packages (from torch>=2.0.1->-r requirements.txt (line 1)) (12.6.77)\n",
      "Requirement already satisfied: nvidia-nvjitlink-cu12==12.6.85 in /home/jupyter/.local/lib/python3.10/site-packages (from torch>=2.0.1->-r requirements.txt (line 1)) (12.6.85)\n",
      "Requirement already satisfied: nvidia-cufile-cu12==1.11.1.6 in /home/jupyter/.local/lib/python3.10/site-packages (from torch>=2.0.1->-r requirements.txt (line 1)) (1.11.1.6)\n",
      "Requirement already satisfied: triton==3.3.0 in /home/jupyter/.local/lib/python3.10/site-packages (from torch>=2.0.1->-r requirements.txt (line 1)) (3.3.0)\n",
      "Requirement already satisfied: setuptools>=40.8.0 in /kernel/lib/python3.10/site-packages (from triton==3.3.0->torch>=2.0.1->-r requirements.txt (line 1)) (65.5.0)\n",
      "Requirement already satisfied: pillow!=8.3.*,>=5.3.0 in /usr/local/lib/python3.10/dist-packages (from torchvision->-r requirements.txt (line 8)) (9.4.0)\n",
      "Requirement already satisfied: coloredlogs in /home/jupyter/.local/lib/python3.10/site-packages (from onnxruntime-gpu->-r requirements.txt (line 10)) (15.0.1)\n",
      "Requirement already satisfied: flatbuffers in /usr/local/lib/python3.10/dist-packages (from onnxruntime-gpu->-r requirements.txt (line 10)) (23.5.26)\n",
      "Requirement already satisfied: packaging in /usr/local/lib/python3.10/dist-packages (from onnxruntime-gpu->-r requirements.txt (line 10)) (23.1)\n",
      "Requirement already satisfied: protobuf in /home/jupyter/.local/lib/python3.10/site-packages (from onnxruntime-gpu->-r requirements.txt (line 10)) (6.30.2)\n",
      "Requirement already satisfied: python-dateutil>=2.8.2 in /usr/local/lib/python3.10/dist-packages (from pandas->-r requirements.txt (line 11)) (2.8.2)\n",
      "Requirement already satisfied: pytz>=2020.1 in /usr/local/lib/python3.10/dist-packages (from pandas->-r requirements.txt (line 11)) (2022.7.1)\n",
      "Requirement already satisfied: tzdata>=2022.7 in /usr/local/lib/python3.10/dist-packages (from pandas->-r requirements.txt (line 11)) (2023.3)\n",
      "Requirement already satisfied: cffi>=1.0 in /usr/local/lib/python3.10/dist-packages (from soundfile->-r requirements.txt (line 13)) (1.15.1)\n",
      "Requirement already satisfied: absl-py in /usr/local/lib/python3.10/dist-packages (from ml_collections->-r requirements.txt (line 14)) (1.4.0)\n",
      "Requirement already satisfied: audioread>=2.1.9 in /usr/local/lib/python3.10/dist-packages (from librosa->-r requirements.txt (line 24)) (3.0.0)\n",
      "Requirement already satisfied: scikit-learn>=0.19.1 in /usr/local/lib/python3.10/dist-packages (from librosa->-r requirements.txt (line 24)) (1.2.2)\n",
      "Requirement already satisfied: joblib>=0.14 in /usr/local/lib/python3.10/dist-packages (from librosa->-r requirements.txt (line 24)) (1.3.1)\n",
      "Requirement already satisfied: decorator>=4.0.10 in /usr/local/lib/python3.10/dist-packages (from librosa->-r requirements.txt (line 24)) (4.4.2)\n",
      "Requirement already satisfied: resampy>=0.2.2 in /home/jupyter/.local/lib/python3.10/site-packages (from librosa->-r requirements.txt (line 24)) (0.4.3)\n",
      "Requirement already satisfied: numba>=0.45.1 in /usr/local/lib/python3.10/dist-packages (from librosa->-r requirements.txt (line 24)) (0.56.4)\n",
      "Requirement already satisfied: pooch>=1.0 in /usr/local/lib/python3.10/dist-packages (from librosa->-r requirements.txt (line 24)) (1.6.0)\n",
      "Requirement already satisfied: dora-search in /home/jupyter/.local/lib/python3.10/site-packages (from demucs->-r requirements.txt (line 25)) (0.1.12)\n",
      "Requirement already satisfied: julius>=0.2.3 in /home/jupyter/.local/lib/python3.10/site-packages (from demucs->-r requirements.txt (line 25)) (0.2.7)\n",
      "Requirement already satisfied: lameenc>=1.2 in /home/jupyter/.local/lib/python3.10/site-packages (from demucs->-r requirements.txt (line 25)) (1.8.1)\n",
      "Requirement already satisfied: openunmix in /home/jupyter/.local/lib/python3.10/site-packages (from demucs->-r requirements.txt (line 25)) (1.3.0)\n",
      "Requirement already satisfied: pycparser in /usr/local/lib/python3.10/dist-packages (from cffi>=1.0->soundfile->-r requirements.txt (line 13)) (2.21)\n",
      "Requirement already satisfied: requests in /usr/local/lib/python3.10/dist-packages (from huggingface-hub->timm==0.9.2->-r requirements.txt (line 17)) (2.27.1)\n",
      "Requirement already satisfied: llvmlite<0.40,>=0.39.0dev0 in /usr/local/lib/python3.10/dist-packages (from numba>=0.45.1->librosa->-r requirements.txt (line 24)) (0.39.1)\n",
      "Requirement already satisfied: appdirs>=1.3.0 in /usr/local/lib/python3.10/dist-packages (from pooch>=1.0->librosa->-r requirements.txt (line 24)) (1.4.4)\n",
      "Requirement already satisfied: six>=1.5 in /usr/lib/python3/dist-packages (from python-dateutil>=2.8.2->pandas->-r requirements.txt (line 11)) (1.16.0)\n",
      "Requirement already satisfied: threadpoolctl>=2.0.0 in /usr/local/lib/python3.10/dist-packages (from scikit-learn>=0.19.1->librosa->-r requirements.txt (line 24)) (3.2.0)\n",
      "Requirement already satisfied: mpmath<1.4,>=1.1.0 in /usr/local/lib/python3.10/dist-packages (from sympy>=1.13.3->torch>=2.0.1->-r requirements.txt (line 1)) (1.3.0)\n",
      "Requirement already satisfied: humanfriendly>=9.1 in /home/jupyter/.local/lib/python3.10/site-packages (from coloredlogs->onnxruntime-gpu->-r requirements.txt (line 10)) (10.0)\n",
      "Requirement already satisfied: retrying in /home/jupyter/.local/lib/python3.10/site-packages (from dora-search->demucs->-r requirements.txt (line 25)) (1.3.4)\n",
      "Requirement already satisfied: submitit in /home/jupyter/.local/lib/python3.10/site-packages (from dora-search->demucs->-r requirements.txt (line 25)) (1.5.2)\n",
      "Requirement already satisfied: treetable in /home/jupyter/.local/lib/python3.10/site-packages (from dora-search->demucs->-r requirements.txt (line 25)) (0.2.5)\n",
      "Requirement already satisfied: MarkupSafe>=2.0 in /usr/local/lib/python3.10/dist-packages (from jinja2->torch>=2.0.1->-r requirements.txt (line 1)) (2.1.3)\n",
      "Requirement already satisfied: urllib3<1.27,>=1.21.1 in /usr/local/lib/python3.10/dist-packages (from requests->huggingface-hub->timm==0.9.2->-r requirements.txt (line 17)) (1.26.16)\n",
      "Requirement already satisfied: certifi>=2017.4.17 in /usr/local/lib/python3.10/dist-packages (from requests->huggingface-hub->timm==0.9.2->-r requirements.txt (line 17)) (2023.7.22)\n",
      "Requirement already satisfied: charset-normalizer~=2.0.0 in /usr/local/lib/python3.10/dist-packages (from requests->huggingface-hub->timm==0.9.2->-r requirements.txt (line 17)) (2.0.12)\n",
      "Requirement already satisfied: idna<4,>=2.5 in /usr/local/lib/python3.10/dist-packages (from requests->huggingface-hub->timm==0.9.2->-r requirements.txt (line 17)) (3.4)\n",
      "Requirement already satisfied: cloudpickle>=1.2.1 in /usr/local/lib/python3.10/dist-packages (from submitit->dora-search->demucs->-r requirements.txt (line 25)) (2.2.1)\n",
      "\u001b[33mWARNING: Error parsing dependencies of tensorrt-cu12-libs: [Errno 2] No such file or directory: '/home/jupyter/.local/lib/python3.10/site-packages/tensorrt_cu12_libs-10.7.0.post1.dist-info/METADATA'\u001b[0m\u001b[33m\n",
      "\u001b[0m\u001b[33mWARNING: Ignoring invalid distribution -ensorrt-cu11-libs (/home/jupyter/.local/lib/python3.10/site-packages)\u001b[0m\u001b[33m\n",
      "\u001b[0m\u001b[33mWARNING: Ignoring invalid distribution -orch (/home/jupyter/.local/lib/python3.10/site-packages)\u001b[0m\u001b[33m\n",
      "\u001b[0m\u001b[33mWARNING: Ignoring invalid distribution -umpy (/home/jupyter/.local/lib/python3.10/site-packages)\u001b[0m\u001b[33m\n",
      "\u001b[0m\u001b[33mWARNING: Ignoring invalid distribution -vidia-cufft-cu12 (/home/jupyter/.local/lib/python3.10/site-packages)\u001b[0m\u001b[33m\n",
      "\u001b[0m\u001b[33mWARNING: Ignoring invalid distribution -vidia-cusparse-cu12 (/home/jupyter/.local/lib/python3.10/site-packages)\u001b[0m\u001b[33m\n",
      "\u001b[0m\u001b[33mWARNING: Ignoring invalid distribution -ympy (/home/jupyter/.local/lib/python3.10/site-packages)\u001b[0m\u001b[33m\n",
      "\u001b[0m\u001b[33mWARNING: Ignoring invalid distribution -ensorrt-cu11-libs (/home/jupyter/.local/lib/python3.10/site-packages)\u001b[0m\u001b[33m\n",
      "\u001b[0m\u001b[33mWARNING: Ignoring invalid distribution -orch (/home/jupyter/.local/lib/python3.10/site-packages)\u001b[0m\u001b[33m\n",
      "\u001b[0m\u001b[33mWARNING: Ignoring invalid distribution -umpy (/home/jupyter/.local/lib/python3.10/site-packages)\u001b[0m\u001b[33m\n",
      "\u001b[0m\u001b[33mWARNING: Ignoring invalid distribution -vidia-cufft-cu12 (/home/jupyter/.local/lib/python3.10/site-packages)\u001b[0m\u001b[33m\n",
      "\u001b[0m\u001b[33mWARNING: Ignoring invalid distribution -vidia-cusparse-cu12 (/home/jupyter/.local/lib/python3.10/site-packages)\u001b[0m\u001b[33m\n",
      "\u001b[0m\u001b[33mWARNING: Ignoring invalid distribution -ympy (/home/jupyter/.local/lib/python3.10/site-packages)\u001b[0m\u001b[33m\n",
      "\u001b[0m\n",
      "\u001b[1m[\u001b[0m\u001b[34;49mnotice\u001b[0m\u001b[1;39;49m]\u001b[0m\u001b[39;49m A new release of pip is available: \u001b[0m\u001b[31;49m23.0.1\u001b[0m\u001b[39;49m -> \u001b[0m\u001b[32;49m25.1.1\u001b[0m\n",
      "\u001b[1m[\u001b[0m\u001b[34;49mnotice\u001b[0m\u001b[1;39;49m]\u001b[0m\u001b[39;49m To update, run: \u001b[0m\u001b[32;49mpython3 -m pip install --upgrade pip\u001b[0m\n"
     ]
    }
   ],
   "source": [
    "%pip install --upgrade -r requirements.txt"
   ]
  },
  {
   "cell_type": "code",
   "execution_count": 34,
   "id": "05ac23fd-2d8f-45aa-9071-ad00880690cf",
   "metadata": {
    "execution": {
     "iopub.execute_input": "2025-05-05T03:36:03.546444Z",
     "iopub.status.busy": "2025-05-05T03:36:03.545373Z",
     "iopub.status.idle": "2025-05-05T03:36:03.575237Z",
     "shell.execute_reply": "2025-05-05T03:36:03.574376Z",
     "shell.execute_reply.started": "2025-05-05T03:36:03.546401Z"
    }
   },
   "outputs": [
    {
     "data": {
      "text/plain": [
       "['__class__',\n",
       " '__del__',\n",
       " '__delattr__',\n",
       " '__dir__',\n",
       " '__doc__',\n",
       " '__enter__',\n",
       " '__eq__',\n",
       " '__exit__',\n",
       " '__format__',\n",
       " '__ge__',\n",
       " '__getattribute__',\n",
       " '__getitem__',\n",
       " '__gt__',\n",
       " '__hash__',\n",
       " '__init__',\n",
       " '__init_subclass__',\n",
       " '__le__',\n",
       " '__lt__',\n",
       " '__module__',\n",
       " '__ne__',\n",
       " '__new__',\n",
       " '__pybind11_module_local_v4_gcc_libstdcpp_cxxabi1016__',\n",
       " '__reduce__',\n",
       " '__reduce_ex__',\n",
       " '__repr__',\n",
       " '__setattr__',\n",
       " '__sizeof__',\n",
       " '__str__',\n",
       " '__subclasshook__',\n",
       " 'create_engine_inspector',\n",
       " 'create_execution_context',\n",
       " 'create_execution_context_without_device_memory',\n",
       " 'create_serialization_config',\n",
       " 'device_memory_size',\n",
       " 'device_memory_size_v2',\n",
       " 'engine_capability',\n",
       " 'error_recorder',\n",
       " 'get_device_memory_size_for_profile',\n",
       " 'get_device_memory_size_for_profile_v2',\n",
       " 'get_tensor_bytes_per_component',\n",
       " 'get_tensor_components_per_element',\n",
       " 'get_tensor_dtype',\n",
       " 'get_tensor_format',\n",
       " 'get_tensor_format_desc',\n",
       " 'get_tensor_location',\n",
       " 'get_tensor_mode',\n",
       " 'get_tensor_name',\n",
       " 'get_tensor_profile_shape',\n",
       " 'get_tensor_profile_values',\n",
       " 'get_tensor_shape',\n",
       " 'get_tensor_vectorized_dim',\n",
       " 'get_weight_streaming_automatic_budget',\n",
       " 'hardware_compatibility_level',\n",
       " 'has_implicit_batch_dimension',\n",
       " 'is_debug_tensor',\n",
       " 'is_shape_inference_io',\n",
       " 'minimum_weight_streaming_budget',\n",
       " 'name',\n",
       " 'num_aux_streams',\n",
       " 'num_io_tensors',\n",
       " 'num_layers',\n",
       " 'num_optimization_profiles',\n",
       " 'profiling_verbosity',\n",
       " 'refittable',\n",
       " 'serialize',\n",
       " 'serialize_with_config',\n",
       " 'streamable_weights_size',\n",
       " 'tactic_sources',\n",
       " 'weight_streaming_budget',\n",
       " 'weight_streaming_budget_v2',\n",
       " 'weight_streaming_scratch_memory_size']"
      ]
     },
     "execution_count": 34,
     "metadata": {},
     "output_type": "execute_result"
    }
   ],
   "source": [
    "['__class__', '__del__', '__delattr__', '__dir__', '__doc__', '__enter__', '__eq__', '__exit__', '__format__', '__ge__', '__getattribute__', '__getitem__', '__gt__', '__hash__', '__init__', '__init_subclass__', '__le__', '__lt__', '__module__', '__ne__', '__new__', '__pybind11_module_local_v4_gcc_libstdcpp_cxxabi1016__', '__reduce__', '__reduce_ex__', '__repr__', '__setattr__', '__sizeof__', '__str__', '__subclasshook__', 'create_engine_inspector', 'create_execution_context', 'create_execution_context_without_device_memory', 'create_serialization_config', 'device_memory_size', 'device_memory_size_v2', 'engine_capability', 'error_recorder', 'get_device_memory_size_for_profile', 'get_device_memory_size_for_profile_v2', 'get_tensor_bytes_per_component', 'get_tensor_components_per_element', 'get_tensor_dtype', 'get_tensor_format', 'get_tensor_format_desc', 'get_tensor_location', 'get_tensor_mode', 'get_tensor_name', 'get_tensor_profile_shape', 'get_tensor_profile_values', 'get_tensor_shape', 'get_tensor_vectorized_dim', 'get_weight_streaming_automatic_budget', 'hardware_compatibility_level', 'has_implicit_batch_dimension', 'is_debug_tensor', 'is_shape_inference_io', 'minimum_weight_streaming_budget', 'name', 'num_aux_streams', 'num_io_tensors', 'num_layers', 'num_optimization_profiles', 'profiling_verbosity', 'refittable', 'serialize', 'serialize_with_config', 'streamable_weights_size', 'tactic_sources', 'weight_streaming_budget', 'weight_streaming_budget_v2', 'weight_streaming_scratch_memory_size']"
   ]
  },
  {
   "cell_type": "code",
   "execution_count": 1,
   "id": "97e9efbb-94b3-4079-a720-1c50ae0cf3ca",
   "metadata": {
    "execution": {
     "iopub.execute_input": "2025-05-04T19:08:49.385570Z",
     "iopub.status.busy": "2025-05-04T19:08:49.384711Z",
     "iopub.status.idle": "2025-05-04T19:08:51.750277Z",
     "shell.execute_reply": "2025-05-04T19:08:51.749475Z",
     "shell.execute_reply.started": "2025-05-04T19:08:49.385529Z"
    },
    "tags": []
   },
   "outputs": [],
   "source": [
    "from torch2trt import torch2trt"
   ]
  },
  {
   "cell_type": "code",
   "execution_count": 2,
   "id": "77a2f222-6e80-4664-a263-3388d441b68d",
   "metadata": {
    "execution": {
     "iopub.execute_input": "2025-05-04T19:12:01.810935Z",
     "iopub.status.busy": "2025-05-04T19:12:01.810042Z",
     "iopub.status.idle": "2025-05-04T19:12:09.211782Z",
     "shell.execute_reply": "2025-05-04T19:12:09.211006Z",
     "shell.execute_reply.started": "2025-05-04T19:12:01.810873Z"
    },
    "tags": []
   },
   "outputs": [
    {
     "name": "stderr",
     "output_type": "stream",
     "text": [
      "/home/jupyter/.local/lib/python3.10/site-packages/torch/_utils.py:776: UserWarning: TypedStorage is deprecated. It will be removed in the future and UntypedStorage will be the only storage class. This should only matter to you if you are using storages directly.  To access UntypedStorage directly, use tensor.untyped_storage() instead of tensor.storage()\n",
      "  return self.fget.__get__(instance, owner)()\n"
     ]
    }
   ],
   "source": [
    "from utils import get_model_from_config\n",
    "model, config = get_model_from_config('mdx23c', 'configs/config_vocals_mdx23c.yaml')\n",
    "import torch\n",
    "device = \"cuda\"\n",
    "state_dict = torch.load('results/last_mdx23c.ckpt', map_location=device, weights_only=True)"
   ]
  },
  {
   "cell_type": "code",
   "execution_count": 3,
   "id": "7cd11d2a-f77d-42ae-8191-9653c8f071ad",
   "metadata": {
    "execution": {
     "iopub.execute_input": "2025-05-04T19:12:09.214028Z",
     "iopub.status.busy": "2025-05-04T19:12:09.213263Z",
     "iopub.status.idle": "2025-05-04T19:12:09.230913Z",
     "shell.execute_reply": "2025-05-04T19:12:09.230141Z",
     "shell.execute_reply.started": "2025-05-04T19:12:09.213999Z"
    },
    "tags": []
   },
   "outputs": [],
   "source": [
    "if 'state' in state_dict:\n",
    "    state_dict = state_dict['state']\n",
    "# Fix for apollo pretrained models\n",
    "if 'state_dict' in state_dict:\n",
    "    state_dict = state_dict['state_dict']"
   ]
  },
  {
   "cell_type": "code",
   "execution_count": 4,
   "id": "1d5ae1dc-7fbb-4e03-9b36-6aaafe39af90",
   "metadata": {
    "execution": {
     "iopub.execute_input": "2025-05-04T19:12:09.232950Z",
     "iopub.status.busy": "2025-05-04T19:12:09.232214Z",
     "iopub.status.idle": "2025-05-04T19:12:09.371425Z",
     "shell.execute_reply": "2025-05-04T19:12:09.370603Z",
     "shell.execute_reply.started": "2025-05-04T19:12:09.232916Z"
    },
    "tags": []
   },
   "outputs": [
    {
     "data": {
      "text/plain": [
       "<All keys matched successfully>"
      ]
     },
     "execution_count": 4,
     "metadata": {},
     "output_type": "execute_result"
    }
   ],
   "source": [
    "model.load_state_dict(state_dict)"
   ]
  },
  {
   "cell_type": "code",
   "execution_count": null,
   "id": "a34c9ef5-2bd2-4dac-a687-8949f2d56545",
   "metadata": {},
   "outputs": [],
   "source": []
  },
  {
   "cell_type": "code",
   "execution_count": 8,
   "id": "b3173687-d6cc-4250-bcb4-386f6b3d95a4",
   "metadata": {
    "execution": {
     "iopub.execute_input": "2025-05-04T19:14:36.111083Z",
     "iopub.status.busy": "2025-05-04T19:14:36.109933Z",
     "iopub.status.idle": "2025-05-04T19:14:36.189224Z",
     "shell.execute_reply": "2025-05-04T19:14:36.187759Z",
     "shell.execute_reply.started": "2025-05-04T19:14:36.111039Z"
    },
    "tags": []
   },
   "outputs": [
    {
     "ename": "OSError",
     "evalue": "/home/jupyter/.local/lib/python3.10/site-packages/torch_tensorrt/lib/libtorchtrt.so: undefined symbol: _ZNK3c105Error4whatEv",
     "output_type": "error",
     "traceback": [
      "\u001b[0;31m---------------------------------------------------------------------------\u001b[0m",
      "\u001b[0;31mOSError\u001b[0m                                   Traceback (most recent call last)",
      "\u001b[0;32m/tmp/ipykernel_19925/3681290466.py\u001b[0m in \u001b[0;36m<cell line: 2>\u001b[0;34m()\u001b[0m\n\u001b[1;32m      1\u001b[0m \u001b[0;32mimport\u001b[0m \u001b[0mtorch\u001b[0m\u001b[0;34m\u001b[0m\u001b[0;34m\u001b[0m\u001b[0m\n\u001b[0;32m----> 2\u001b[0;31m \u001b[0;32mimport\u001b[0m \u001b[0mtorch_tensorrt\u001b[0m\u001b[0;34m\u001b[0m\u001b[0;34m\u001b[0m\u001b[0m\n\u001b[0m\u001b[1;32m      3\u001b[0m \u001b[0;34m\u001b[0m\u001b[0m\n\u001b[1;32m      4\u001b[0m \u001b[0mx\u001b[0m \u001b[0;34m=\u001b[0m \u001b[0mtorch\u001b[0m\u001b[0;34m.\u001b[0m\u001b[0mrandn\u001b[0m\u001b[0;34m(\u001b[0m\u001b[0;34m(\u001b[0m\u001b[0;36m1\u001b[0m\u001b[0;34m,\u001b[0m \u001b[0;36m4\u001b[0m\u001b[0;34m,\u001b[0m \u001b[0;36m4096\u001b[0m\u001b[0;34m,\u001b[0m \u001b[0;36m256\u001b[0m\u001b[0;34m)\u001b[0m\u001b[0;34m)\u001b[0m\u001b[0;34m.\u001b[0m\u001b[0mcuda\u001b[0m\u001b[0;34m(\u001b[0m\u001b[0;34m)\u001b[0m\u001b[0;34m\u001b[0m\u001b[0;34m\u001b[0m\u001b[0m\n\u001b[1;32m      5\u001b[0m \u001b[0moptimized_model\u001b[0m \u001b[0;34m=\u001b[0m \u001b[0mtorch\u001b[0m\u001b[0;34m.\u001b[0m\u001b[0mcompile\u001b[0m\u001b[0;34m(\u001b[0m\u001b[0mmodel\u001b[0m\u001b[0;34m,\u001b[0m \u001b[0mbackend\u001b[0m\u001b[0;34m=\u001b[0m\u001b[0;34m\"tensorrt\"\u001b[0m\u001b[0;34m)\u001b[0m\u001b[0;34m\u001b[0m\u001b[0;34m\u001b[0m\u001b[0m\n",
      "\u001b[0;32m~/.local/lib/python3.10/site-packages/torch_tensorrt/__init__.py\u001b[0m in \u001b[0;36m<module>\u001b[0;34m\u001b[0m\n\u001b[1;32m    112\u001b[0m \u001b[0;34m\u001b[0m\u001b[0m\n\u001b[1;32m    113\u001b[0m \u001b[0;34m\u001b[0m\u001b[0m\n\u001b[0;32m--> 114\u001b[0;31m \u001b[0m_register_with_torch\u001b[0m\u001b[0;34m(\u001b[0m\u001b[0;34m)\u001b[0m\u001b[0;34m\u001b[0m\u001b[0;34m\u001b[0m\u001b[0m\n\u001b[0m\u001b[1;32m    115\u001b[0m \u001b[0;34m\u001b[0m\u001b[0m\n\u001b[1;32m    116\u001b[0m \u001b[0;32mfrom\u001b[0m \u001b[0mtorch_tensorrt\u001b[0m\u001b[0;34m.\u001b[0m\u001b[0m_Device\u001b[0m \u001b[0;32mimport\u001b[0m \u001b[0mDevice\u001b[0m  \u001b[0;31m# noqa: F401\u001b[0m\u001b[0;34m\u001b[0m\u001b[0;34m\u001b[0m\u001b[0m\n",
      "\u001b[0;32m~/.local/lib/python3.10/site-packages/torch_tensorrt/__init__.py\u001b[0m in \u001b[0;36m_register_with_torch\u001b[0;34m()\u001b[0m\n\u001b[1;32m    105\u001b[0m         \u001b[0;32massert\u001b[0m \u001b[0mENABLED_FEATURES\u001b[0m\u001b[0;34m.\u001b[0m\u001b[0mtorchscript_frontend\u001b[0m\u001b[0;34m\u001b[0m\u001b[0;34m\u001b[0m\u001b[0m\n\u001b[1;32m    106\u001b[0m         \u001b[0;32massert\u001b[0m \u001b[0mENABLED_FEATURES\u001b[0m\u001b[0;34m.\u001b[0m\u001b[0mtorch_tensorrt_runtime\u001b[0m\u001b[0;34m\u001b[0m\u001b[0;34m\u001b[0m\u001b[0m\n\u001b[0;32m--> 107\u001b[0;31m         \u001b[0mtorch\u001b[0m\u001b[0;34m.\u001b[0m\u001b[0mops\u001b[0m\u001b[0;34m.\u001b[0m\u001b[0mload_library\u001b[0m\u001b[0;34m(\u001b[0m\u001b[0mlinked_file_full_path\u001b[0m\u001b[0;34m)\u001b[0m\u001b[0;34m\u001b[0m\u001b[0;34m\u001b[0m\u001b[0m\n\u001b[0m\u001b[1;32m    108\u001b[0m \u001b[0;34m\u001b[0m\u001b[0m\n\u001b[1;32m    109\u001b[0m     \u001b[0;32melif\u001b[0m \u001b[0mos\u001b[0m\u001b[0;34m.\u001b[0m\u001b[0mpath\u001b[0m\u001b[0;34m.\u001b[0m\u001b[0misfile\u001b[0m\u001b[0;34m(\u001b[0m\u001b[0mlinked_file_runtime_full_path\u001b[0m\u001b[0;34m)\u001b[0m\u001b[0;34m:\u001b[0m\u001b[0;34m\u001b[0m\u001b[0;34m\u001b[0m\u001b[0m\n",
      "\u001b[0;32m~/.local/lib/python3.10/site-packages/torch/_ops.py\u001b[0m in \u001b[0;36mload_library\u001b[0;34m(self, path)\u001b[0m\n\u001b[1;32m    641\u001b[0m             \u001b[0;31m# static (global) initialization code in order to register custom\u001b[0m\u001b[0;34m\u001b[0m\u001b[0;34m\u001b[0m\u001b[0m\n\u001b[1;32m    642\u001b[0m             \u001b[0;31m# operators with the JIT.\u001b[0m\u001b[0;34m\u001b[0m\u001b[0;34m\u001b[0m\u001b[0m\n\u001b[0;32m--> 643\u001b[0;31m             \u001b[0mctypes\u001b[0m\u001b[0;34m.\u001b[0m\u001b[0mCDLL\u001b[0m\u001b[0;34m(\u001b[0m\u001b[0mpath\u001b[0m\u001b[0;34m)\u001b[0m\u001b[0;34m\u001b[0m\u001b[0;34m\u001b[0m\u001b[0m\n\u001b[0m\u001b[1;32m    644\u001b[0m         \u001b[0mself\u001b[0m\u001b[0;34m.\u001b[0m\u001b[0mloaded_libraries\u001b[0m\u001b[0;34m.\u001b[0m\u001b[0madd\u001b[0m\u001b[0;34m(\u001b[0m\u001b[0mpath\u001b[0m\u001b[0;34m)\u001b[0m\u001b[0;34m\u001b[0m\u001b[0;34m\u001b[0m\u001b[0m\n\u001b[1;32m    645\u001b[0m \u001b[0;34m\u001b[0m\u001b[0m\n",
      "\u001b[0;32m/usr/lib/python3.10/ctypes/__init__.py\u001b[0m in \u001b[0;36m__init__\u001b[0;34m(self, name, mode, handle, use_errno, use_last_error, winmode)\u001b[0m\n\u001b[1;32m    372\u001b[0m \u001b[0;34m\u001b[0m\u001b[0m\n\u001b[1;32m    373\u001b[0m         \u001b[0;32mif\u001b[0m \u001b[0mhandle\u001b[0m \u001b[0;32mis\u001b[0m \u001b[0;32mNone\u001b[0m\u001b[0;34m:\u001b[0m\u001b[0;34m\u001b[0m\u001b[0;34m\u001b[0m\u001b[0m\n\u001b[0;32m--> 374\u001b[0;31m             \u001b[0mself\u001b[0m\u001b[0;34m.\u001b[0m\u001b[0m_handle\u001b[0m \u001b[0;34m=\u001b[0m \u001b[0m_dlopen\u001b[0m\u001b[0;34m(\u001b[0m\u001b[0mself\u001b[0m\u001b[0;34m.\u001b[0m\u001b[0m_name\u001b[0m\u001b[0;34m,\u001b[0m \u001b[0mmode\u001b[0m\u001b[0;34m)\u001b[0m\u001b[0;34m\u001b[0m\u001b[0;34m\u001b[0m\u001b[0m\n\u001b[0m\u001b[1;32m    375\u001b[0m         \u001b[0;32melse\u001b[0m\u001b[0;34m:\u001b[0m\u001b[0;34m\u001b[0m\u001b[0;34m\u001b[0m\u001b[0m\n\u001b[1;32m    376\u001b[0m             \u001b[0mself\u001b[0m\u001b[0;34m.\u001b[0m\u001b[0m_handle\u001b[0m \u001b[0;34m=\u001b[0m \u001b[0mhandle\u001b[0m\u001b[0;34m\u001b[0m\u001b[0;34m\u001b[0m\u001b[0m\n",
      "\u001b[0;31mOSError\u001b[0m: /home/jupyter/.local/lib/python3.10/site-packages/torch_tensorrt/lib/libtorchtrt.so: undefined symbol: _ZNK3c105Error4whatEv"
     ]
    }
   ],
   "source": [
    "import torch\n",
    "import torch_tensorrt\n",
    "\n",
    "x = torch.randn((1, 4, 4096, 256)).cuda()\n",
    "optimized_model = torch.compile(model, backend=\"tensorrt\")\n",
    "optimized_model(x)"
   ]
  },
  {
   "cell_type": "code",
   "execution_count": null,
   "id": "0957a46d-69af-40f5-b9c6-96e5c514cb14",
   "metadata": {
    "execution": {
     "iopub.status.busy": "2025-05-04T14:41:44.846102Z",
     "iopub.status.idle": "2025-05-04T14:41:44.847379Z",
     "shell.execute_reply": "2025-05-04T14:41:44.847176Z",
     "shell.execute_reply.started": "2025-05-04T14:41:44.847133Z"
    },
    "tags": []
   },
   "outputs": [],
   "source": [
    "%run -i inference.py --model_type mdx23c --use_tensorrt --tensorrt_model_path melbandroformer.engine  --config_path configs/config_vocals_mdx23c.yaml  --input_folder input/wavs/  --store_dir separation_results2/"
   ]
  },
  {
   "cell_type": "code",
   "execution_count": 6,
   "id": "fa44c1e2-d390-40e7-a21e-f5c85fedcae0",
   "metadata": {
    "execution": {
     "iopub.execute_input": "2025-05-03T22:46:43.613636Z",
     "iopub.status.busy": "2025-05-03T22:46:43.610617Z",
     "iopub.status.idle": "2025-05-03T22:46:43.647491Z",
     "shell.execute_reply": "2025-05-03T22:46:43.645435Z",
     "shell.execute_reply.started": "2025-05-03T22:46:43.613491Z"
    },
    "tags": []
   },
   "outputs": [
    {
     "data": {
      "text/plain": [
       "(2025, 1)"
      ]
     },
     "execution_count": 6,
     "metadata": {},
     "output_type": "execute_result"
    }
   ],
   "source": [
    "import pycuda\n",
    "pycuda.VERSION"
   ]
  },
  {
   "cell_type": "code",
   "execution_count": 9,
   "id": "20b91558-d427-4472-ac07-901e37bac16a",
   "metadata": {
    "execution": {
     "iopub.execute_input": "2025-05-03T23:15:45.759539Z",
     "iopub.status.busy": "2025-05-03T23:15:45.757050Z",
     "iopub.status.idle": "2025-05-03T23:15:49.430566Z",
     "shell.execute_reply": "2025-05-03T23:15:49.429275Z",
     "shell.execute_reply.started": "2025-05-03T23:15:45.759444Z"
    },
    "tags": []
   },
   "outputs": [
    {
     "name": "stdout",
     "output_type": "stream",
     "text": [
      "['DLA_core', '__class__', '__del__', '__delattr__', '__dir__', '__doc__', '__enter__', '__eq__', '__exit__', '__format__', '__ge__', '__getattribute__', '__gt__', '__hash__', '__init__', '__init_subclass__', '__le__', '__lt__', '__module__', '__ne__', '__new__', '__pybind11_module_local_v4_gcc_libstdcpp_cxxabi1013__', '__reduce__', '__reduce_ex__', '__repr__', '__setattr__', '__sizeof__', '__str__', '__subclasshook__', 'deserialize_cuda_engine', 'engine_host_code_allowed', 'error_recorder', 'get_plugin_registry', 'gpu_allocator', 'load_runtime', 'logger', 'max_threads', 'num_DLA_cores', 'tempfile_control_flags', 'temporary_directory']\n",
      "[05/03/2025-23:15:49] [TRT] [E] IRuntime::deserializeCudaEngine: Error Code 1: Serialization (Serialization assertion plan->header.pad == expectedPlatformTag failed.Platform specific tag mismatch detected. TensorRT plan files are only supported on the target runtime platform they were created on.)\n"
     ]
    }
   ],
   "source": [
    "import tensorrt as trt\n",
    "logger = trt.Logger(trt.Logger.WARNING)\n",
    "model_path = \"mdx23c-0.trt\"\n",
    "with open(model_path, \"rb\") as f, trt.Runtime(logger) as runtime:\n",
    "    engine = runtime.deserialize_cuda_engine(f.read())"
   ]
  },
  {
   "cell_type": "code",
   "execution_count": 1,
   "id": "b5019993-a8d1-490b-9ae0-bdf75e3a78bd",
   "metadata": {
    "execution": {
     "iopub.execute_input": "2025-05-05T11:43:11.052132Z",
     "iopub.status.busy": "2025-05-05T11:43:11.051370Z",
     "iopub.status.idle": "2025-05-05T11:43:59.662574Z",
     "shell.execute_reply": "2025-05-05T11:43:59.661856Z",
     "shell.execute_reply.started": "2025-05-05T11:43:11.052098Z"
    },
    "tags": []
   },
   "outputs": [
    {
     "name": "stdout",
     "output_type": "stream",
     "text": [
      "CUDA is available, use --force_cpu to disable it.\n",
      "Using device:  cuda:0\n",
      "Start from checkpoint: results/last_mdx23c.ckpt\n",
      "Instruments: ['vocals', 'other']\n",
      "Model load time: 1.14 sec\n",
      "Total files found: 100. Using sample rate: 44100\n",
      "Processing track: input/wavs/song_000_mixture.wav\n"
     ]
    },
    {
     "name": "stderr",
     "output_type": "stream",
     "text": [
      "                                                                                      \r"
     ]
    },
    {
     "name": "stdout",
     "output_type": "stream",
     "text": [
      "Processing track: input/wavs/song_001_mixture.wav\n"
     ]
    },
    {
     "name": "stderr",
     "output_type": "stream",
     "text": [
      "                                                                                      \r"
     ]
    },
    {
     "name": "stdout",
     "output_type": "stream",
     "text": [
      "Processing track: input/wavs/song_002_mixture.wav\n"
     ]
    },
    {
     "name": "stderr",
     "output_type": "stream",
     "text": [
      "                                                                                      \r"
     ]
    },
    {
     "name": "stdout",
     "output_type": "stream",
     "text": [
      "Processing track: input/wavs/song_003_mixture.wav\n"
     ]
    },
    {
     "name": "stderr",
     "output_type": "stream",
     "text": [
      "                                                                                      \r"
     ]
    },
    {
     "name": "stdout",
     "output_type": "stream",
     "text": [
      "Processing track: input/wavs/song_004_mixture.wav\n"
     ]
    },
    {
     "name": "stderr",
     "output_type": "stream",
     "text": [
      "                                                                                      \r"
     ]
    },
    {
     "name": "stdout",
     "output_type": "stream",
     "text": [
      "Processing track: input/wavs/song_005_mixture.wav\n"
     ]
    },
    {
     "name": "stderr",
     "output_type": "stream",
     "text": [
      "                                                                                      \r"
     ]
    },
    {
     "name": "stdout",
     "output_type": "stream",
     "text": [
      "Elapsed time: 41.97 seconds.\n"
     ]
    }
   ],
   "source": [
    "%run -i inference.py  --model_type mdx23c --start_check_poin results/last_mdx23c.ckpt --config_path configs/config_vocals_mdx23c.yaml --input_folder input/wavs/  --store_dir separation_results3/"
   ]
  },
  {
   "cell_type": "code",
   "execution_count": 16,
   "id": "7a0d170b-0ba4-46c4-835d-c5a748a1c6e6",
   "metadata": {
    "execution": {
     "iopub.execute_input": "2025-05-02T21:12:05.476367Z",
     "iopub.status.busy": "2025-05-02T21:12:05.475398Z",
     "iopub.status.idle": "2025-05-02T21:12:05.513028Z",
     "shell.execute_reply": "2025-05-02T21:12:05.511803Z",
     "shell.execute_reply.started": "2025-05-02T21:12:05.476324Z"
    },
    "tags": []
   },
   "outputs": [
    {
     "ename": "NameError",
     "evalue": "name 'tensorrt' is not defined",
     "output_type": "error",
     "traceback": [
      "\u001b[0;31m---------------------------------------------------------------------------\u001b[0m",
      "\u001b[0;31mNameError\u001b[0m                                 Traceback (most recent call last)",
      "\u001b[0;32m~/work/resources/VKR/inference.py\u001b[0m in \u001b[0;36m<cell line: 1>\u001b[0;34m()\u001b[0m\n\u001b[0;32m----> 1\u001b[0;31m \u001b[0mdir\u001b[0m\u001b[0;34m(\u001b[0m\u001b[0mtensorrt\u001b[0m\u001b[0;34m)\u001b[0m\u001b[0;34m\u001b[0m\u001b[0;34m\u001b[0m\u001b[0m\n\u001b[0m",
      "\u001b[0;31mNameError\u001b[0m: name 'tensorrt' is not defined"
     ]
    }
   ],
   "source": [
    "from tensorrt import Engine"
   ]
  },
  {
   "cell_type": "code",
   "execution_count": 9,
   "id": "523bef23-bb49-41e4-b4e5-2fb76a3a56a3",
   "metadata": {
    "execution": {
     "iopub.execute_input": "2025-05-04T00:32:57.798561Z",
     "iopub.status.busy": "2025-05-04T00:32:57.797443Z",
     "iopub.status.idle": "2025-05-04T00:32:58.326621Z",
     "shell.execute_reply": "2025-05-04T00:32:58.325033Z",
     "shell.execute_reply.started": "2025-05-04T00:32:57.798518Z"
    },
    "tags": []
   },
   "outputs": [
    {
     "name": "stdout",
     "output_type": "stream",
     "text": [
      "['__class__', '__del__', '__delattr__', '__dir__', '__doc__', '__enter__', '__eq__', '__exit__', '__format__', '__ge__', '__getattribute__', '__gt__', '__hash__', '__init__', '__init_subclass__', '__le__', '__lt__', '__module__', '__ne__', '__new__', '__pybind11_module_local_v4_gcc_libstdcpp_cxxabi1013__', '__reduce__', '__reduce_ex__', '__repr__', '__setattr__', '__sizeof__', '__str__', '__subclasshook__', 'build_engine_with_config', 'build_serialized_network', 'create_builder_config', 'create_network', 'create_optimization_profile', 'error_recorder', 'get_plugin_registry', 'gpu_allocator', 'is_network_supported', 'logger', 'max_DLA_batch_size', 'max_threads', 'num_DLA_cores', 'platform_has_fast_fp16', 'platform_has_fast_int8', 'platform_has_tf32', 'reset']\n"
     ]
    },
    {
     "ename": "AttributeError",
     "evalue": "'tensorrt_bindings.tensorrt.Builder' object has no attribute 'build_cuda_engine'",
     "output_type": "error",
     "traceback": [
      "\u001b[0;31m---------------------------------------------------------------------------\u001b[0m",
      "\u001b[0;31mAttributeError\u001b[0m                            Traceback (most recent call last)",
      "\u001b[0;32m/tmp/ipykernel_12544/216443986.py\u001b[0m in \u001b[0;36m<cell line: 29>\u001b[0;34m()\u001b[0m\n\u001b[1;32m     27\u001b[0m \u001b[0;34m\u001b[0m\u001b[0m\n\u001b[1;32m     28\u001b[0m \u001b[0mTRT_LOGGER\u001b[0m \u001b[0;34m=\u001b[0m \u001b[0mtrt\u001b[0m\u001b[0;34m.\u001b[0m\u001b[0mLogger\u001b[0m\u001b[0;34m(\u001b[0m\u001b[0mtrt\u001b[0m\u001b[0;34m.\u001b[0m\u001b[0mLogger\u001b[0m\u001b[0;34m.\u001b[0m\u001b[0mWARNING\u001b[0m\u001b[0;34m)\u001b[0m\u001b[0;34m\u001b[0m\u001b[0;34m\u001b[0m\u001b[0m\n\u001b[0;32m---> 29\u001b[0;31m \u001b[0mengine\u001b[0m \u001b[0;34m=\u001b[0m \u001b[0mbuild_engine\u001b[0m\u001b[0;34m(\u001b[0m\u001b[0monnx_model_path\u001b[0m\u001b[0;34m)\u001b[0m\u001b[0;34m\u001b[0m\u001b[0;34m\u001b[0m\u001b[0m\n\u001b[0m",
      "\u001b[0;32m/tmp/ipykernel_12544/216443986.py\u001b[0m in \u001b[0;36mbuild_engine\u001b[0;34m(onnx_file_path)\u001b[0m\n\u001b[1;32m     14\u001b[0m                 \u001b[0;32mreturn\u001b[0m \u001b[0;32mNone\u001b[0m\u001b[0;34m\u001b[0m\u001b[0;34m\u001b[0m\u001b[0m\n\u001b[1;32m     15\u001b[0m         \u001b[0mprint\u001b[0m\u001b[0;34m(\u001b[0m\u001b[0mdir\u001b[0m\u001b[0;34m(\u001b[0m\u001b[0mbuilder\u001b[0m\u001b[0;34m)\u001b[0m\u001b[0;34m)\u001b[0m\u001b[0;34m\u001b[0m\u001b[0;34m\u001b[0m\u001b[0m\n\u001b[0;32m---> 16\u001b[0;31m         \u001b[0mengine\u001b[0m \u001b[0;34m=\u001b[0m \u001b[0mbuilder\u001b[0m\u001b[0;34m.\u001b[0m\u001b[0mbuild_cuda_engine\u001b[0m\u001b[0;34m(\u001b[0m\u001b[0mnetwork\u001b[0m\u001b[0;34m)\u001b[0m\u001b[0;34m\u001b[0m\u001b[0;34m\u001b[0m\u001b[0m\n\u001b[0m\u001b[1;32m     17\u001b[0m         \u001b[0;32mif\u001b[0m \u001b[0mengine\u001b[0m \u001b[0;32mis\u001b[0m \u001b[0;32mNone\u001b[0m\u001b[0;34m:\u001b[0m\u001b[0;34m\u001b[0m\u001b[0;34m\u001b[0m\u001b[0m\n\u001b[1;32m     18\u001b[0m             \u001b[0mprint\u001b[0m\u001b[0;34m(\u001b[0m\u001b[0;34m\"ERROR: Failed to create the engine.\"\u001b[0m\u001b[0;34m)\u001b[0m\u001b[0;34m\u001b[0m\u001b[0;34m\u001b[0m\u001b[0m\n",
      "\u001b[0;31mAttributeError\u001b[0m: 'tensorrt_bindings.tensorrt.Builder' object has no attribute 'build_cuda_engine'"
     ]
    }
   ],
   "source": [
    "import tensorrt as trt\n",
    "import pycuda.driver as cuda\n",
    "import pycuda.autoinit\n",
    "import numpy as np\n",
    "\n",
    "\n",
    "def build_engine(onnx_file_path):\n",
    "    with trt.Builder(TRT_LOGGER) as builder, builder.create_network(1) as network, trt.OnnxParser(network, TRT_LOGGER) as parser:\n",
    "        with open(onnx_file_path, 'rb') as model:\n",
    "            if not parser.parse(model.read()):\n",
    "                print('ERROR: Failed to parse the ONNX file.')\n",
    "                for error in range(parser.num_errors):\n",
    "                    print(parser.get_error(error))\n",
    "                return None\n",
    "        print(dir(builder))\n",
    "        engine = builder.build_cuda_engine(network)\n",
    "        if engine is None:\n",
    "            print(\"ERROR: Failed to create the engine.\")\n",
    "            return None\n",
    "\n",
    "        return engine\n",
    "\n",
    "\n",
    "\n",
    "onnx_model_path = \"onnx_models/mdx23c.onnx\"\n",
    "tensorrt_model_path = \"mdx23c.trt\"\n",
    "\n",
    "TRT_LOGGER = trt.Logger(trt.Logger.WARNING)\n",
    "engine = build_engine(onnx_model_path)\n"
   ]
  },
  {
   "cell_type": "code",
   "execution_count": 9,
   "id": "57814b24-bf2c-4352-b022-3db9f502ce6f",
   "metadata": {
    "execution": {
     "iopub.execute_input": "2025-05-04T03:12:05.613437Z",
     "iopub.status.busy": "2025-05-04T03:12:05.612525Z",
     "iopub.status.idle": "2025-05-04T03:13:10.215782Z",
     "shell.execute_reply": "2025-05-04T03:13:10.213664Z",
     "shell.execute_reply.started": "2025-05-04T03:12:05.613371Z"
    },
    "tags": []
   },
   "outputs": [
    {
     "name": "stdout",
     "output_type": "stream",
     "text": [
      "CUDA is available, use --force_cpu to disable it.\n",
      "Using device:  cuda:0\n",
      "GPU Compute Capability equal or above 8.0, using flash attention if input tensor is on cuda\n",
      "Start from checkpoint: results/MelBandRoformer.ckpt\n",
      "Instruments: ['vocals', 'other']\n",
      "Model load time: 21.13 sec\n",
      "Total files found: 100. Using sample rate: 44100\n",
      "Processing track: input/wavs/song_000_mixture.wav\n"
     ]
    },
    {
     "name": "stderr",
     "output_type": "stream",
     "text": [
      "Processing audio chunks:   0%|          | 0/2998800 [00:00<?, ?it/s]"
     ]
    },
    {
     "name": "stdout",
     "output_type": "stream",
     "text": [
      "torch.Size([4, 3958, 801, 2])\n"
     ]
    },
    {
     "name": "stderr",
     "output_type": "stream",
     "text": [
      "Processing audio chunks:  24%|██▎       | 705600/2998800 [00:05<00:16, 136857.01it/s]"
     ]
    },
    {
     "name": "stdout",
     "output_type": "stream",
     "text": [
      "torch.Size([4, 3958, 801, 2])\n"
     ]
    },
    {
     "name": "stderr",
     "output_type": "stream",
     "text": [
      "Processing audio chunks:  47%|████▋     | 1411200/2998800 [00:05<00:05, 308964.32it/s]"
     ]
    },
    {
     "name": "stdout",
     "output_type": "stream",
     "text": [
      "torch.Size([4, 3958, 801, 2])\n"
     ]
    },
    {
     "name": "stderr",
     "output_type": "stream",
     "text": [
      "Processing audio chunks:  71%|███████   | 2116800/2998800 [00:05<00:01, 516730.32it/s]"
     ]
    },
    {
     "name": "stdout",
     "output_type": "stream",
     "text": [
      "torch.Size([4, 3958, 801, 2])\n"
     ]
    },
    {
     "name": "stderr",
     "output_type": "stream",
     "text": [
      "                                                                                      "
     ]
    },
    {
     "name": "stdout",
     "output_type": "stream",
     "text": [
      "torch.Size([1, 3958, 801, 2])\n"
     ]
    },
    {
     "name": "stderr",
     "output_type": "stream",
     "text": [
      "\r"
     ]
    },
    {
     "name": "stdout",
     "output_type": "stream",
     "text": [
      "Processing track: input/wavs/song_001_mixture.wav\n"
     ]
    },
    {
     "name": "stderr",
     "output_type": "stream",
     "text": [
      "Processing audio chunks:   0%|          | 0/2998800 [00:00<?, ?it/s]"
     ]
    },
    {
     "name": "stdout",
     "output_type": "stream",
     "text": [
      "torch.Size([4, 3958, 801, 2])\n"
     ]
    },
    {
     "name": "stderr",
     "output_type": "stream",
     "text": [
      "Processing audio chunks:  24%|██▎       | 705600/2998800 [00:00<00:00, 2552678.05it/s]"
     ]
    },
    {
     "name": "stdout",
     "output_type": "stream",
     "text": [
      "torch.Size([4, 3958, 801, 2])\n"
     ]
    },
    {
     "name": "stderr",
     "output_type": "stream",
     "text": [
      "Processing audio chunks:  47%|████▋     | 1411200/2998800 [00:00<00:00, 2567251.07it/s]"
     ]
    },
    {
     "name": "stdout",
     "output_type": "stream",
     "text": [
      "torch.Size([4, 3958, 801, 2])\n"
     ]
    },
    {
     "name": "stderr",
     "output_type": "stream",
     "text": [
      "Processing audio chunks:  71%|███████   | 2116800/2998800 [00:00<00:00, 2572642.55it/s]"
     ]
    },
    {
     "name": "stdout",
     "output_type": "stream",
     "text": [
      "torch.Size([4, 3958, 801, 2])\n"
     ]
    },
    {
     "name": "stderr",
     "output_type": "stream",
     "text": [
      "                                                                                       "
     ]
    },
    {
     "name": "stdout",
     "output_type": "stream",
     "text": [
      "torch.Size([1, 3958, 801, 2])\n"
     ]
    },
    {
     "name": "stderr",
     "output_type": "stream",
     "text": [
      "\r"
     ]
    },
    {
     "name": "stdout",
     "output_type": "stream",
     "text": [
      "Processing track: input/wavs/song_002_mixture.wav\n"
     ]
    },
    {
     "name": "stderr",
     "output_type": "stream",
     "text": [
      "Processing audio chunks:   0%|          | 0/2998800 [00:00<?, ?it/s]"
     ]
    },
    {
     "name": "stdout",
     "output_type": "stream",
     "text": [
      "torch.Size([4, 3958, 801, 2])\n"
     ]
    },
    {
     "name": "stderr",
     "output_type": "stream",
     "text": [
      "Processing audio chunks:  24%|██▎       | 705600/2998800 [00:00<00:00, 2529535.51it/s]"
     ]
    },
    {
     "name": "stdout",
     "output_type": "stream",
     "text": [
      "torch.Size([4, 3958, 801, 2])\n"
     ]
    },
    {
     "name": "stderr",
     "output_type": "stream",
     "text": [
      "Processing audio chunks:  47%|████▋     | 1411200/2998800 [00:00<00:00, 2569923.74it/s]"
     ]
    },
    {
     "name": "stdout",
     "output_type": "stream",
     "text": [
      "torch.Size([4, 3958, 801, 2])\n"
     ]
    },
    {
     "name": "stderr",
     "output_type": "stream",
     "text": [
      "Processing audio chunks:  71%|███████   | 2116800/2998800 [00:00<00:00, 2583028.38it/s]"
     ]
    },
    {
     "name": "stdout",
     "output_type": "stream",
     "text": [
      "torch.Size([4, 3958, 801, 2])\n"
     ]
    },
    {
     "name": "stderr",
     "output_type": "stream",
     "text": [
      "                                                                                       "
     ]
    },
    {
     "name": "stdout",
     "output_type": "stream",
     "text": [
      "torch.Size([1, 3958, 801, 2])\n"
     ]
    },
    {
     "name": "stderr",
     "output_type": "stream",
     "text": [
      "\r"
     ]
    },
    {
     "name": "stdout",
     "output_type": "stream",
     "text": [
      "Processing track: input/wavs/song_003_mixture.wav\n"
     ]
    },
    {
     "name": "stderr",
     "output_type": "stream",
     "text": [
      "Processing audio chunks:   0%|          | 0/2998800 [00:00<?, ?it/s]"
     ]
    },
    {
     "name": "stdout",
     "output_type": "stream",
     "text": [
      "torch.Size([4, 3958, 801, 2])\n"
     ]
    },
    {
     "name": "stderr",
     "output_type": "stream",
     "text": [
      "Processing audio chunks:  24%|██▎       | 705600/2998800 [00:00<00:00, 2568384.71it/s]"
     ]
    },
    {
     "name": "stdout",
     "output_type": "stream",
     "text": [
      "torch.Size([4, 3958, 801, 2])\n"
     ]
    },
    {
     "name": "stderr",
     "output_type": "stream",
     "text": [
      "Processing audio chunks:  47%|████▋     | 1411200/2998800 [00:00<00:00, 2579017.40it/s]"
     ]
    },
    {
     "name": "stdout",
     "output_type": "stream",
     "text": [
      "torch.Size([4, 3958, 801, 2])\n"
     ]
    },
    {
     "name": "stderr",
     "output_type": "stream",
     "text": [
      "Processing audio chunks:  71%|███████   | 2116800/2998800 [00:00<00:00, 2588607.58it/s]"
     ]
    },
    {
     "name": "stdout",
     "output_type": "stream",
     "text": [
      "torch.Size([4, 3958, 801, 2])\n"
     ]
    },
    {
     "name": "stderr",
     "output_type": "stream",
     "text": [
      "Processing audio chunks:  94%|█████████▍| 2822400/2998800 [00:01<00:00, 2588715.82it/s]"
     ]
    },
    {
     "name": "stdout",
     "output_type": "stream",
     "text": [
      "torch.Size([1, 3958, 801, 2])\n"
     ]
    },
    {
     "name": "stderr",
     "output_type": "stream",
     "text": [
      "                                                                                       \r"
     ]
    },
    {
     "name": "stdout",
     "output_type": "stream",
     "text": [
      "Processing track: input/wavs/song_004_mixture.wav\n"
     ]
    },
    {
     "name": "stderr",
     "output_type": "stream",
     "text": [
      "Processing audio chunks:   0%|          | 0/2998800 [00:00<?, ?it/s]"
     ]
    },
    {
     "name": "stdout",
     "output_type": "stream",
     "text": [
      "torch.Size([4, 3958, 801, 2])\n"
     ]
    },
    {
     "name": "stderr",
     "output_type": "stream",
     "text": [
      "Processing audio chunks:  24%|██▎       | 705600/2998800 [00:00<00:00, 2532657.02it/s]"
     ]
    },
    {
     "name": "stdout",
     "output_type": "stream",
     "text": [
      "torch.Size([4, 3958, 801, 2])\n"
     ]
    },
    {
     "name": "stderr",
     "output_type": "stream",
     "text": [
      "Processing audio chunks:  47%|████▋     | 1411200/2998800 [00:00<00:00, 2565255.53it/s]"
     ]
    },
    {
     "name": "stdout",
     "output_type": "stream",
     "text": [
      "torch.Size([4, 3958, 801, 2])\n"
     ]
    },
    {
     "name": "stderr",
     "output_type": "stream",
     "text": [
      "Processing audio chunks:  71%|███████   | 2116800/2998800 [00:00<00:00, 2577164.91it/s]"
     ]
    },
    {
     "name": "stdout",
     "output_type": "stream",
     "text": [
      "torch.Size([4, 3958, 801, 2])\n"
     ]
    },
    {
     "name": "stderr",
     "output_type": "stream",
     "text": [
      "Processing audio chunks:  94%|█████████▍| 2822400/2998800 [00:01<00:00, 2584142.58it/s]"
     ]
    },
    {
     "name": "stdout",
     "output_type": "stream",
     "text": [
      "torch.Size([1, 3958, 801, 2])\n"
     ]
    },
    {
     "name": "stderr",
     "output_type": "stream",
     "text": [
      "                                                                                       \r"
     ]
    },
    {
     "name": "stdout",
     "output_type": "stream",
     "text": [
      "Processing track: input/wavs/song_005_mixture.wav\n"
     ]
    },
    {
     "name": "stderr",
     "output_type": "stream",
     "text": [
      "Processing audio chunks:   0%|          | 0/2998800 [00:00<?, ?it/s]"
     ]
    },
    {
     "name": "stdout",
     "output_type": "stream",
     "text": [
      "torch.Size([4, 3958, 801, 2])\n"
     ]
    },
    {
     "name": "stderr",
     "output_type": "stream",
     "text": [
      "Processing audio chunks:  24%|██▎       | 705600/2998800 [00:00<00:00, 2574847.07it/s]"
     ]
    },
    {
     "name": "stdout",
     "output_type": "stream",
     "text": [
      "torch.Size([4, 3958, 801, 2])\n"
     ]
    },
    {
     "name": "stderr",
     "output_type": "stream",
     "text": [
      "Processing audio chunks:  47%|████▋     | 1411200/2998800 [00:00<00:00, 2583805.94it/s]"
     ]
    },
    {
     "name": "stdout",
     "output_type": "stream",
     "text": [
      "torch.Size([4, 3958, 801, 2])\n"
     ]
    },
    {
     "name": "stderr",
     "output_type": "stream",
     "text": [
      "Processing audio chunks:  71%|███████   | 2116800/2998800 [00:00<00:00, 2586144.93it/s]"
     ]
    },
    {
     "name": "stdout",
     "output_type": "stream",
     "text": [
      "torch.Size([4, 3958, 801, 2])\n"
     ]
    },
    {
     "name": "stderr",
     "output_type": "stream",
     "text": [
      "                                                                                       "
     ]
    },
    {
     "name": "stdout",
     "output_type": "stream",
     "text": [
      "torch.Size([1, 3958, 801, 2])\n"
     ]
    },
    {
     "name": "stderr",
     "output_type": "stream",
     "text": [
      "\r"
     ]
    },
    {
     "name": "stdout",
     "output_type": "stream",
     "text": [
      "Elapsed time: 15.60 seconds.\n"
     ]
    }
   ],
   "source": [
    "%run -i inference.py  --model_type mel_band_roformer --start_check_poin results/MelBandRoformer.ckpt --config_path configs/KimberleyJensen/config_vocals_mel_band_roformer_kj.yaml --input_folder input/wavs/  --store_dir separation_results3/"
   ]
  },
  {
   "cell_type": "code",
   "execution_count": null,
   "id": "5b456546-99af-40ea-90db-e4f0f350d604",
   "metadata": {
    "execution": {
     "iopub.status.busy": "2025-04-23T14:42:11.305435Z",
     "iopub.status.idle": "2025-04-23T14:42:11.306380Z",
     "shell.execute_reply": "2025-04-23T14:42:11.306204Z",
     "shell.execute_reply.started": "2025-04-23T14:42:11.306167Z"
    }
   },
   "outputs": [],
   "source": [
    "import onnxruntime\n",
    "import onnx\n",
    "onnx_model = onnx.load('onnx_models/mdx23c.onnx')"
   ]
  },
  {
   "cell_type": "code",
   "execution_count": 2,
   "id": "c15c8d73-f13e-4639-a268-fccd708fe487",
   "metadata": {
    "execution": {
     "iopub.execute_input": "2025-05-05T11:36:31.922939Z",
     "iopub.status.busy": "2025-05-05T11:36:31.921939Z",
     "iopub.status.idle": "2025-05-05T11:36:34.333756Z",
     "shell.execute_reply": "2025-05-05T11:36:34.333078Z",
     "shell.execute_reply.started": "2025-05-05T11:36:31.922895Z"
    },
    "tags": []
   },
   "outputs": [],
   "source": [
    "import tensorrt as trt\n",
    "import pycuda.driver as cuda\n",
    "import pycuda.autoinit\n",
    "import numpy as np\n",
    "\n",
    "onnx_model_path = \"onnx_models/mdx23c.onnx\"\n",
    "logger = trt.Logger(trt.Logger.WARNING)\n",
    "builder = trt.Builder(logger)\n",
    "network = builder.create_network()#1 << int(trt.NetworkDefinitionCreationFlag.STRONGLY_TYPED\n",
    "config = builder.create_builder_config()\n",
    "\n",
    "#profile = builder.create_optimization_profile()\n",
    "#config.add_optimization_profile(profile)\n",
    "#config.set_flag(trt.BuilderFlag.FP16)\n",
    "#profile.get_shape(\"\", (1, 4, 4096, 256))"
   ]
  },
  {
   "cell_type": "code",
   "execution_count": 3,
   "id": "b70ed23e-62e8-4974-90f8-e6913fcaa4d9",
   "metadata": {
    "execution": {
     "iopub.execute_input": "2025-05-05T11:22:37.529465Z",
     "iopub.status.busy": "2025-05-05T11:22:37.528443Z",
     "iopub.status.idle": "2025-05-05T11:22:37.562317Z",
     "shell.execute_reply": "2025-05-05T11:22:37.561768Z",
     "shell.execute_reply.started": "2025-05-05T11:22:37.529430Z"
    },
    "tags": []
   },
   "outputs": [],
   "source": [
    "config.engine_capability = trt.EngineCapability.STANDARD"
   ]
  },
  {
   "cell_type": "code",
   "execution_count": 4,
   "id": "673c6bd9-fa8b-435c-a9fb-92f784fc6051",
   "metadata": {
    "execution": {
     "iopub.execute_input": "2025-05-05T11:22:37.563334Z",
     "iopub.status.busy": "2025-05-05T11:22:37.562987Z",
     "iopub.status.idle": "2025-05-05T11:22:37.584092Z",
     "shell.execute_reply": "2025-05-05T11:22:37.583533Z",
     "shell.execute_reply.started": "2025-05-05T11:22:37.563307Z"
    },
    "tags": []
   },
   "outputs": [],
   "source": [
    "config.builder_optimization_level = 3"
   ]
  },
  {
   "cell_type": "code",
   "execution_count": 5,
   "id": "3a7112ab-a60c-4116-b589-2b6044e528eb",
   "metadata": {
    "execution": {
     "iopub.execute_input": "2025-05-05T11:22:37.585930Z",
     "iopub.status.busy": "2025-05-05T11:22:37.585368Z",
     "iopub.status.idle": "2025-05-05T11:22:37.606812Z",
     "shell.execute_reply": "2025-05-05T11:22:37.606227Z",
     "shell.execute_reply.started": "2025-05-05T11:22:37.585901Z"
    },
    "tags": []
   },
   "outputs": [
    {
     "data": {
      "text/plain": [
       "3"
      ]
     },
     "execution_count": 5,
     "metadata": {},
     "output_type": "execute_result"
    }
   ],
   "source": [
    "config.builder_optimization_level"
   ]
  },
  {
   "cell_type": "code",
   "execution_count": 6,
   "id": "c9d50922-a4ab-48ef-815f-e791484889be",
   "metadata": {
    "execution": {
     "iopub.execute_input": "2025-05-05T11:22:37.608341Z",
     "iopub.status.busy": "2025-05-05T11:22:37.607489Z",
     "iopub.status.idle": "2025-05-05T11:22:37.673244Z",
     "shell.execute_reply": "2025-05-05T11:22:37.672496Z",
     "shell.execute_reply.started": "2025-05-05T11:22:37.608249Z"
    },
    "tags": []
   },
   "outputs": [
    {
     "data": {
      "text/plain": [
       "True"
      ]
     },
     "execution_count": 6,
     "metadata": {},
     "output_type": "execute_result"
    }
   ],
   "source": [
    "config.set_tactic_sources(1 << int(trt.TacticSource.EDGE_MASK_CONVOLUTIONS) | 1 << int(trt.TacticSource.JIT_CONVOLUTIONS))"
   ]
  },
  {
   "cell_type": "code",
   "execution_count": 3,
   "id": "4ea47249-05cc-45f4-bfd9-eda9188362a9",
   "metadata": {
    "execution": {
     "iopub.execute_input": "2025-05-05T11:36:42.873518Z",
     "iopub.status.busy": "2025-05-05T11:36:42.872546Z",
     "iopub.status.idle": "2025-05-05T11:36:43.410132Z",
     "shell.execute_reply": "2025-05-05T11:36:43.409491Z",
     "shell.execute_reply.started": "2025-05-05T11:36:42.873478Z"
    },
    "tags": []
   },
   "outputs": [],
   "source": [
    "parser = trt.OnnxParser(network, logger)\n",
    "with open(onnx_model_path, 'rb') as model_file:\n",
    "    if not parser.parse(model_file.read()):\n",
    "        print('ERROR: Failed to parse the ONNX file.')\n",
    "        for error in range(parser.num_errors):\n",
    "            print(parser.get_error(error))"
   ]
  },
  {
   "cell_type": "code",
   "execution_count": 8,
   "id": "1619475e-c399-4021-a93d-477d6356dd65",
   "metadata": {
    "execution": {
     "iopub.execute_input": "2025-05-05T11:22:47.681158Z",
     "iopub.status.busy": "2025-05-05T11:22:47.680541Z",
     "iopub.status.idle": "2025-05-05T11:22:47.691245Z",
     "shell.execute_reply": "2025-05-05T11:22:47.690716Z",
     "shell.execute_reply.started": "2025-05-05T11:22:47.681109Z"
    },
    "tags": []
   },
   "outputs": [],
   "source": [
    "network_inputs = [network.get_input(i) for i in range(network.num_inputs)]\n",
    "input_names = [_input.name for _input in network_inputs] "
   ]
  },
  {
   "cell_type": "code",
   "execution_count": 9,
   "id": "540c579b-2054-4829-8ddb-4b4f0d28428f",
   "metadata": {
    "execution": {
     "iopub.execute_input": "2025-05-05T11:22:47.692289Z",
     "iopub.status.busy": "2025-05-05T11:22:47.691923Z",
     "iopub.status.idle": "2025-05-05T11:22:47.705091Z",
     "shell.execute_reply": "2025-05-05T11:22:47.704552Z",
     "shell.execute_reply.started": "2025-05-05T11:22:47.692262Z"
    },
    "tags": []
   },
   "outputs": [
    {
     "data": {
      "text/plain": [
       "['x.1']"
      ]
     },
     "execution_count": 9,
     "metadata": {},
     "output_type": "execute_result"
    }
   ],
   "source": [
    "input_names"
   ]
  },
  {
   "cell_type": "code",
   "execution_count": 10,
   "id": "2e82d752-4664-450e-97d8-47462a383f5c",
   "metadata": {
    "execution": {
     "iopub.execute_input": "2025-05-05T11:22:47.706617Z",
     "iopub.status.busy": "2025-05-05T11:22:47.705829Z",
     "iopub.status.idle": "2025-05-05T11:22:47.718015Z",
     "shell.execute_reply": "2025-05-05T11:22:47.717122Z",
     "shell.execute_reply.started": "2025-05-05T11:22:47.706581Z"
    },
    "tags": []
   },
   "outputs": [
    {
     "data": {
      "text/plain": [
       "<tensorrt_bindings.tensorrt.ITensor at 0x7fe481316df0>"
      ]
     },
     "execution_count": 10,
     "metadata": {},
     "output_type": "execute_result"
    }
   ],
   "source": [
    "network.get_input(0)"
   ]
  },
  {
   "cell_type": "code",
   "execution_count": 4,
   "id": "4a91cfab-f140-4b63-8983-eaeeae1ae936",
   "metadata": {
    "execution": {
     "iopub.execute_input": "2025-05-05T11:36:49.102082Z",
     "iopub.status.busy": "2025-05-05T11:36:49.101211Z",
     "iopub.status.idle": "2025-05-05T11:38:36.037935Z",
     "shell.execute_reply": "2025-05-05T11:38:36.036492Z",
     "shell.execute_reply.started": "2025-05-05T11:36:49.102048Z"
    },
    "tags": []
   },
   "outputs": [],
   "source": [
    "engine = builder.build_engine_with_config(network, config)"
   ]
  },
  {
   "cell_type": "code",
   "execution_count": 12,
   "id": "9ed32200-c26c-4f98-95c5-85dbd001203d",
   "metadata": {
    "execution": {
     "iopub.execute_input": "2025-05-05T11:24:07.137315Z",
     "iopub.status.busy": "2025-05-05T11:24:07.136905Z",
     "iopub.status.idle": "2025-05-05T11:24:07.178983Z",
     "shell.execute_reply": "2025-05-05T11:24:07.178233Z",
     "shell.execute_reply.started": "2025-05-05T11:24:07.137287Z"
    },
    "tags": []
   },
   "outputs": [
    {
     "data": {
      "text/plain": [
       "[]"
      ]
     },
     "execution_count": 12,
     "metadata": {},
     "output_type": "execute_result"
    }
   ],
   "source": [
    "l = builder.get_plugin_registry()\n",
    "l.plugin_creator_list"
   ]
  },
  {
   "cell_type": "code",
   "execution_count": 5,
   "id": "9297f445-5f4d-4716-9711-ced57a32fe4a",
   "metadata": {
    "execution": {
     "iopub.execute_input": "2025-05-05T11:38:36.040005Z",
     "iopub.status.busy": "2025-05-05T11:38:36.039190Z",
     "iopub.status.idle": "2025-05-05T11:38:48.329996Z",
     "shell.execute_reply": "2025-05-05T11:38:48.329252Z",
     "shell.execute_reply.started": "2025-05-05T11:38:36.039961Z"
    },
    "tags": []
   },
   "outputs": [],
   "source": [
    "engine_file_path = \"mdx23c.engine\"\n",
    "with open(engine_file_path, \"wb\") as f:\n",
    "    f.write(engine.serialize())"
   ]
  },
  {
   "cell_type": "code",
   "execution_count": 15,
   "id": "35902e0d-1094-46df-b9a8-2deb160d6940",
   "metadata": {
    "execution": {
     "iopub.execute_input": "2025-05-05T03:19:15.711943Z",
     "iopub.status.busy": "2025-05-05T03:19:15.710897Z",
     "iopub.status.idle": "2025-05-05T03:19:15.735203Z",
     "shell.execute_reply": "2025-05-05T03:19:15.734338Z",
     "shell.execute_reply.started": "2025-05-05T03:19:15.711904Z"
    },
    "tags": []
   },
   "outputs": [
    {
     "data": {
      "text/plain": [
       "['__class__',\n",
       " '__del__',\n",
       " '__delattr__',\n",
       " '__dir__',\n",
       " '__doc__',\n",
       " '__enter__',\n",
       " '__eq__',\n",
       " '__exit__',\n",
       " '__format__',\n",
       " '__ge__',\n",
       " '__getattribute__',\n",
       " '__getitem__',\n",
       " '__gt__',\n",
       " '__hash__',\n",
       " '__init__',\n",
       " '__init_subclass__',\n",
       " '__le__',\n",
       " '__lt__',\n",
       " '__module__',\n",
       " '__ne__',\n",
       " '__new__',\n",
       " '__pybind11_module_local_v4_gcc_libstdcpp_cxxabi1013__',\n",
       " '__reduce__',\n",
       " '__reduce_ex__',\n",
       " '__repr__',\n",
       " '__setattr__',\n",
       " '__sizeof__',\n",
       " '__str__',\n",
       " '__subclasshook__',\n",
       " 'create_engine_inspector',\n",
       " 'create_execution_context',\n",
       " 'create_execution_context_without_device_memory',\n",
       " 'create_serialization_config',\n",
       " 'device_memory_size',\n",
       " 'device_memory_size_v2',\n",
       " 'engine_capability',\n",
       " 'error_recorder',\n",
       " 'get_device_memory_size_for_profile',\n",
       " 'get_device_memory_size_for_profile_v2',\n",
       " 'get_tensor_bytes_per_component',\n",
       " 'get_tensor_components_per_element',\n",
       " 'get_tensor_dtype',\n",
       " 'get_tensor_format',\n",
       " 'get_tensor_format_desc',\n",
       " 'get_tensor_location',\n",
       " 'get_tensor_mode',\n",
       " 'get_tensor_name',\n",
       " 'get_tensor_profile_shape',\n",
       " 'get_tensor_profile_values',\n",
       " 'get_tensor_shape',\n",
       " 'get_tensor_vectorized_dim',\n",
       " 'get_weight_streaming_automatic_budget',\n",
       " 'hardware_compatibility_level',\n",
       " 'has_implicit_batch_dimension',\n",
       " 'is_debug_tensor',\n",
       " 'is_shape_inference_io',\n",
       " 'minimum_weight_streaming_budget',\n",
       " 'name',\n",
       " 'num_aux_streams',\n",
       " 'num_io_tensors',\n",
       " 'num_layers',\n",
       " 'num_optimization_profiles',\n",
       " 'profiling_verbosity',\n",
       " 'refittable',\n",
       " 'serialize',\n",
       " 'serialize_with_config',\n",
       " 'streamable_weights_size',\n",
       " 'tactic_sources',\n",
       " 'weight_streaming_budget',\n",
       " 'weight_streaming_budget_v2',\n",
       " 'weight_streaming_scratch_memory_size']"
      ]
     },
     "execution_count": 15,
     "metadata": {},
     "output_type": "execute_result"
    }
   ],
   "source": [
    "dir(engine)"
   ]
  },
  {
   "cell_type": "code",
   "execution_count": 1,
   "id": "1a7f18fa-cef5-4396-a8be-f1bda41e1018",
   "metadata": {
    "execution": {
     "iopub.execute_input": "2025-05-05T02:31:13.026518Z",
     "iopub.status.busy": "2025-05-05T02:31:13.024577Z",
     "iopub.status.idle": "2025-05-05T02:31:15.908573Z",
     "shell.execute_reply": "2025-05-05T02:31:15.907747Z",
     "shell.execute_reply.started": "2025-05-05T02:31:13.026486Z"
    },
    "tags": []
   },
   "outputs": [
    {
     "name": "stdout",
     "output_type": "stream",
     "text": [
      "[05/05/2025-02:31:15] [TRT] [I] Loaded engine size: 711 MiB\n",
      "[05/05/2025-02:31:15] [TRT] [V] Deserialization required 93794 microseconds.\n",
      "[05/05/2025-02:31:15] [TRT] [V] Total per-runner device persistent memory is 13637120\n",
      "[05/05/2025-02:31:15] [TRT] [V] Total per-runner host persistent memory is 263328\n",
      "[05/05/2025-02:31:15] [TRT] [V] Allocated device scratch memory of size 1202192384\n",
      "[05/05/2025-02:31:15] [TRT] [V] - Runner scratch: 1202192384 bytes\n",
      "TensorRT engine loaded and buffers allocated.[05/05/2025-02:31:15] [TRT] [I] [MemUsageChange] TensorRT-managed allocation in IExecutionContext creation: CPU +0, GPU +1160, now: CPU 0, GPU 1878 (MiB)\n",
      "[05/05/2025-02:31:15] [TRT] [V] CUDA lazy loading is enabled.\n",
      "\n"
     ]
    }
   ],
   "source": [
    "from tensorrt_process import TensorRTInferencer, speed_test\n",
    "\n",
    "model = TensorRTInferencer('mdx23c.engine', 'cuda')"
   ]
  },
  {
   "cell_type": "code",
   "execution_count": null,
   "id": "89abd66e-2011-4a88-8bce-bbd979cdba67",
   "metadata": {},
   "outputs": [],
   "source": []
  }
 ],
 "metadata": {
  "kernelspec": {
   "display_name": "DataSphere Kernel",
   "language": "python",
   "name": "python3"
  },
  "language_info": {
   "codemirror_mode": {
    "name": "ipython",
    "version": 3
   },
   "file_extension": ".py",
   "mimetype": "text/x-python",
   "name": "python",
   "nbconvert_exporter": "python",
   "pygments_lexer": "ipython3",
   "version": "3.10.12"
  }
 },
 "nbformat": 4,
 "nbformat_minor": 5
}
